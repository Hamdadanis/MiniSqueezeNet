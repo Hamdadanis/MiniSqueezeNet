{
  "nbformat": 4,
  "nbformat_minor": 0,
  "metadata": {
    "colab": {
      "name": "Copie_de_Copie_de_Copie_de_projet_DL_officiel_part_1.ipynb",
      "provenance": [],
      "collapsed_sections": []
    },
    "kernelspec": {
      "name": "python3",
      "display_name": "Python 3"
    },
    "accelerator": "GPU"
  },
  "cells": [
    {
      "cell_type": "code",
      "metadata": {
        "colab": {
          "base_uri": "https://localhost:8080/"
        },
        "id": "QpV84XkXWQa0",
        "outputId": "2e55dfeb-fdf3-45f2-e161-b10133c6ef2f"
      },
      "source": [
        "#  monter le google drive\n",
        "from google.colab import drive\n",
        "drive.mount('/content/drive')"
      ],
      "execution_count": 1,
      "outputs": [
        {
          "output_type": "stream",
          "text": [
            "Mounted at /content/drive\n"
          ],
          "name": "stdout"
        }
      ]
    },
    {
      "cell_type": "code",
      "metadata": {
        "colab": {
          "base_uri": "https://localhost:8080/"
        },
        "id": "FOr4q_jpWbwG",
        "outputId": "f3bcf85c-f2b1-4112-9486-4e25ff787cd9"
      },
      "source": [
        "cd /content/drive/MyDrive/ProjetDeep/"
      ],
      "execution_count": 2,
      "outputs": [
        {
          "output_type": "stream",
          "text": [
            "/content/drive/MyDrive/ProjetDeep\n"
          ],
          "name": "stdout"
        }
      ]
    },
    {
      "cell_type": "markdown",
      "metadata": {
        "id": "QNpvmTbUSlkd"
      },
      "source": [
        "# Liste des imports"
      ]
    },
    {
      "cell_type": "code",
      "metadata": {
        "id": "grwCyj7fSiya"
      },
      "source": [
        "import numpy as np\n",
        "import matplotlib.pyplot as plt\n",
        "import os\n",
        "import cv2\n",
        "from tqdm import tqdm\n",
        "import random\n",
        "import keras\n",
        "from keras.models import Model\n",
        "from keras.layers import Dense, Dropout, Flatten, Conv2D, MaxPooling2D, Input, BatchNormalization, Activation, Concatenate,GlobalAveragePooling2D\n",
        "from keras.wrappers.scikit_learn import KerasClassifier,KerasRegressor\n",
        "from sklearn.model_selection import StratifiedKFold\n",
        "from keras.models import Sequential\n",
        "from keras.layers import Dense,Dropout\n",
        "from sklearn.model_selection import train_test_split\n",
        "import numpy as np\n",
        "from sklearn.model_selection import GridSearchCV\n",
        "from keras.constraints import maxnorm\n",
        "from keras.utils import to_categorical\n",
        "import tensorflow as tf\n",
        "from keras.preprocessing.image import ImageDataGenerator\n",
        "from keras.preprocessing import image_dataset_from_directory\n",
        "from keras.applications import VGG16\n",
        "from keras.layers import Dropout, Flatten, Dense, Input\n",
        "from keras.models import Model\n",
        "from keras.optimizers import SGD\n",
        "from sklearn.metrics import classification_report\n",
        "from imutils import paths\n",
        "import matplotlib.pyplot as plt\n",
        "import numpy as np\n",
        "import os\n",
        "from keras import backend as K\n",
        "import tensorflow as tf\n",
        "from keras.callbacks import LearningRateScheduler\n",
        "import math\n",
        "import pickle\n",
        "import json\n",
        "import pandas"
      ],
      "execution_count": 47,
      "outputs": []
    },
    {
      "cell_type": "markdown",
      "metadata": {
        "id": "uvFvMDJ3SPoy"
      },
      "source": [
        "#CHARGEMENT DES DONNEES ET EXTRACTION DE X_Train , Y_train , X_test , Y_test"
      ]
    },
    {
      "cell_type": "code",
      "metadata": {
        "id": "5qTVSOnbObvG"
      },
      "source": [
        "\n",
        "IMG_SIZE = 224\n",
        "DATADIR = \"/content/drive/MyDrive/ProjetDeep/BarkNet/BarkNet_train\"\n",
        "\n",
        "CATEGORIES = [\"BOJ\", \"BOP\", \"CHR\", \"EPB\", \"EPN\", \"EPO\",\"EPR\", \"ERR\", \"ERS\", \"FRA\",\"HEG\",\"MEL\",\"ORA\",\"OSV\",\"PET\",\"PIB\",\"PIR\",\"PRU\",\"SAB\",\"THO\"]\n",
        "training_data = []\n",
        "# fonction pour charger les données train à partir du drive  \n",
        "def create_training_data():\n",
        "    for category in CATEGORIES:  \n",
        "\n",
        "        path = os.path.join(DATADIR,category) \n",
        "        class_num = CATEGORIES.index(category)  \n",
        "\n",
        "        for img in tqdm(os.listdir(path)):  \n",
        "            try:\n",
        "                img_array = cv2.imread(os.path.join(path,img))  \n",
        "                new_array = cv2.resize(img_array, (IMG_SIZE, IMG_SIZE))  \n",
        "                training_data.append([new_array, class_num]) \n",
        "            except Exception as e: \n",
        "                pass\n",
        "\n",
        "    \n",
        "DATATESTDIR = \"/content/drive/MyDrive/ProjetDeep/BarkNet/BarkNet_test\"\n",
        "test_data = []\n",
        "# fonction pour charger les données test à partir du drive \n",
        "def create_testing_data():\n",
        "    for category in CATEGORIES:  \n",
        "\n",
        "        path = os.path.join(DATATESTDIR,category) \n",
        "        class_num = CATEGORIES.index(category) \n",
        "\n",
        "        for img in tqdm(os.listdir(path)):  \n",
        "            try:\n",
        "                img_array = cv2.imread(os.path.join(path,img))  \n",
        "                new_array = cv2.resize(img_array, (IMG_SIZE, IMG_SIZE))  \n",
        "                test_data.append([new_array, class_num])  \n",
        "            except Exception as e:  \n",
        "                pass"
      ],
      "execution_count": 3,
      "outputs": []
    },
    {
      "cell_type": "code",
      "metadata": {
        "colab": {
          "base_uri": "https://localhost:8080/"
        },
        "id": "d_E4oi0APnzi",
        "outputId": "13e2fd9a-0ebf-4098-f129-98f3749d4798"
      },
      "source": [
        "create_training_data()"
      ],
      "execution_count": 5,
      "outputs": [
        {
          "output_type": "stream",
          "text": [
            "100%|██████████| 99/99 [00:23<00:00,  4.22it/s]\n",
            "100%|██████████| 96/96 [00:23<00:00,  4.03it/s]\n",
            "100%|██████████| 216/216 [00:52<00:00,  4.13it/s]\n",
            "100%|██████████| 47/47 [00:10<00:00,  4.38it/s]\n",
            "100%|██████████| 75/75 [00:16<00:00,  4.43it/s]\n",
            "100%|██████████| 107/107 [00:24<00:00,  4.32it/s]\n",
            "100%|██████████| 56/56 [00:12<00:00,  4.43it/s]\n",
            "100%|██████████| 141/141 [00:31<00:00,  4.47it/s]\n",
            "100%|██████████| 174/174 [00:40<00:00,  4.32it/s]\n",
            "100%|██████████| 129/129 [00:29<00:00,  4.32it/s]\n",
            "100%|██████████| 68/68 [00:15<00:00,  4.27it/s]\n",
            "100%|██████████| 153/153 [00:35<00:00,  4.35it/s]\n",
            "100%|██████████| 62/62 [00:14<00:00,  4.37it/s]\n",
            "100%|██████████| 52/52 [00:12<00:00,  4.29it/s]\n",
            "100%|██████████| 85/85 [00:18<00:00,  4.55it/s]\n",
            "100%|██████████| 81/81 [00:18<00:00,  4.50it/s]\n",
            "100%|██████████| 53/53 [00:11<00:00,  4.45it/s]\n",
            "100%|██████████| 82/82 [00:18<00:00,  4.36it/s]\n",
            "100%|██████████| 78/78 [00:16<00:00,  4.66it/s]\n",
            "100%|██████████| 58/58 [00:14<00:00,  4.14it/s]\n"
          ],
          "name": "stderr"
        }
      ]
    },
    {
      "cell_type": "code",
      "metadata": {
        "colab": {
          "base_uri": "https://localhost:8080/"
        },
        "id": "SRD7Bo1XPu2_",
        "outputId": "cce11af4-b022-41cc-ff52-f39d83f7db5a"
      },
      "source": [
        "print(len(training_data))"
      ],
      "execution_count": 6,
      "outputs": [
        {
          "output_type": "stream",
          "text": [
            "1914\n"
          ],
          "name": "stdout"
        }
      ]
    },
    {
      "cell_type": "code",
      "metadata": {
        "colab": {
          "base_uri": "https://localhost:8080/"
        },
        "id": "lB1KJcDHWCD5",
        "outputId": "4d14a4b2-61e6-4d36-fd26-6f081aea5c36"
      },
      "source": [
        "create_testing_data()"
      ],
      "execution_count": 7,
      "outputs": [
        {
          "output_type": "stream",
          "text": [
            "100%|██████████| 28/28 [00:06<00:00,  4.11it/s]\n",
            "100%|██████████| 34/34 [00:07<00:00,  4.59it/s]\n",
            "100%|██████████| 59/59 [00:12<00:00,  4.56it/s]\n",
            "100%|██████████| 14/14 [00:03<00:00,  3.54it/s]\n",
            "100%|██████████| 16/16 [00:03<00:00,  4.57it/s]\n",
            "100%|██████████| 27/27 [00:05<00:00,  4.78it/s]\n",
            "100%|██████████| 20/20 [00:04<00:00,  4.04it/s]\n",
            "100%|██████████| 29/29 [00:06<00:00,  4.30it/s]\n",
            "100%|██████████| 27/27 [00:05<00:00,  4.65it/s]\n",
            "100%|██████████| 20/20 [00:05<00:00,  3.99it/s]\n",
            "100%|██████████| 18/18 [00:04<00:00,  3.92it/s]\n",
            "100%|██████████| 37/37 [00:07<00:00,  4.68it/s]\n",
            "100%|██████████| 19/19 [00:03<00:00,  4.75it/s]\n",
            "100%|██████████| 10/10 [00:02<00:00,  4.84it/s]\n",
            "100%|██████████| 20/20 [00:04<00:00,  4.91it/s]\n",
            "100%|██████████| 22/22 [00:05<00:00,  4.32it/s]\n",
            "100%|██████████| 8/8 [00:02<00:00,  3.48it/s]\n",
            "100%|██████████| 18/18 [00:04<00:00,  4.13it/s]\n",
            "100%|██████████| 15/15 [00:03<00:00,  4.90it/s]\n",
            "100%|██████████| 17/17 [00:03<00:00,  4.71it/s]\n"
          ],
          "name": "stderr"
        }
      ]
    },
    {
      "cell_type": "code",
      "metadata": {
        "id": "xAzWQPXqWGy2"
      },
      "source": [
        "print(len(test_data))"
      ],
      "execution_count": 27,
      "outputs": []
    },
    {
      "cell_type": "code",
      "metadata": {
        "id": "byGGnBrSQ94P"
      },
      "source": [
        "\n",
        "# mélanger l'ensemble d'entrainement\n",
        "random.shuffle(training_data)"
      ],
      "execution_count": 8,
      "outputs": []
    },
    {
      "cell_type": "markdown",
      "metadata": {
        "id": "SF5pVrlBhnCF"
      },
      "source": [
        "#Extraction de X_train , y_train"
      ]
    },
    {
      "cell_type": "code",
      "metadata": {
        "colab": {
          "base_uri": "https://localhost:8080/"
        },
        "id": "5YdyRuKET5OM",
        "outputId": "3ef21c7e-9322-438d-9e92-8e1dcb04659a"
      },
      "source": [
        "X_train = []\n",
        "y_train = []\n",
        "\n",
        "for features,label in training_data:\n",
        "    X_train.append(features)\n",
        "    y_train.append(label)\n",
        "\n",
        "X_train = np.array(X_train).reshape(-1, IMG_SIZE, IMG_SIZE, 3)\n",
        "print(X_train.shape)\n",
        "print(len(y_train))"
      ],
      "execution_count": 10,
      "outputs": [
        {
          "output_type": "stream",
          "text": [
            "(1914, 224, 224, 3)\n",
            "1914\n"
          ],
          "name": "stdout"
        }
      ]
    },
    {
      "cell_type": "markdown",
      "metadata": {
        "id": "JWOu3Cf3hzTR"
      },
      "source": [
        "#Extraction de X_test , y_test"
      ]
    },
    {
      "cell_type": "code",
      "metadata": {
        "colab": {
          "base_uri": "https://localhost:8080/"
        },
        "id": "oWoHku8FUHS9",
        "outputId": "d265dd50-2e0a-48dd-cc43-e050b22265a5"
      },
      "source": [
        "X_test = []\n",
        "y_test = []\n",
        "\n",
        "for features,label in test_data:\n",
        "    X_test.append(features)\n",
        "    y_test.append(label)\n",
        "\n",
        "X_test = np.array(X_test).reshape(-1, IMG_SIZE, IMG_SIZE, 3)\n",
        "print(X_test.shape)\n",
        "print(len(y_test))"
      ],
      "execution_count": 11,
      "outputs": [
        {
          "output_type": "stream",
          "text": [
            "(448, 224, 224, 3)\n",
            "448\n"
          ],
          "name": "stdout"
        }
      ]
    },
    {
      "cell_type": "markdown",
      "metadata": {
        "id": "gaiktrHMh8eL"
      },
      "source": [
        "#construire le modéle"
      ]
    },
    {
      "cell_type": "code",
      "metadata": {
        "id": "Qrf9TxCVkLen"
      },
      "source": [
        "def build_model():\n",
        "   inputs = Input((224,224,3))\n",
        "   conv1 = Conv2D(96,(7,7),padding='same',activation='relu',strides=2)(inputs)\n",
        "   maxpool1 = MaxPooling2D(pool_size=(3, 3), strides=2)(conv1)  \n",
        "    # 1er Fire Module\n",
        "   fire1_squeeze = Conv2D(16, kernel_size=(1,1),padding='same',activation='relu')(maxpool1)\n",
        "   fire1_expand1 = Conv2D(64, kernel_size=(1,1),padding='same',activation='relu')(fire1_squeeze)\n",
        "   fire1_expand2 = Conv2D(64, kernel_size=(3,3),padding='same',activation='relu')(fire1_squeeze)\n",
        "   concatenate_1 = Concatenate()([fire1_expand1, fire1_expand2])\n",
        "   # 2er Fire Module\n",
        "   fire2_squeeze = Conv2D(16, kernel_size=(1,1),padding='same',activation='relu')(concatenate_1)\n",
        "   fire2_expand1 = Conv2D(64, kernel_size=(1,1),padding='same',activation='relu')(fire2_squeeze)\n",
        "   fire2_expand2 = Conv2D(64, kernel_size=(3,3),padding='same',activation='relu')(fire2_squeeze)\n",
        "   concatenate_2 = Concatenate()([fire2_expand1, fire2_expand2])\n",
        "   # 3er Fire Module\n",
        "   fire3_squeeze = Conv2D(32, kernel_size=(1,1),padding='same',activation='relu')(concatenate_2)\n",
        "   fire3_expand1 = Conv2D(128, kernel_size=(1,1),padding='same',activation='relu')(fire3_squeeze)\n",
        "   fire3_expand2 = Conv2D(128, kernel_size=(3,3),padding='same',activation='relu')(fire3_squeeze)\n",
        "   concatenate_3 = Concatenate()([fire3_expand1, fire3_expand2])\n",
        "\n",
        "   maxpool2 = MaxPooling2D(pool_size=(3, 3),padding='same', strides=2)(concatenate_3)\n",
        "   # 4er Fire Module\n",
        "   fire4_squeeze = Conv2D(32, kernel_size=(1,1),padding='same',activation='relu')(maxpool2)\n",
        "   fire4_expand1 = Conv2D(128, kernel_size=(1,1),padding='same',activation='relu')(fire4_squeeze)\n",
        "   fire4_expand2 = Conv2D(128, kernel_size=(3,3),padding='same',activation='relu')(fire4_squeeze)\n",
        "   concatenate_4 = Concatenate()([fire4_expand1, fire4_expand2])\n",
        "   # FC\n",
        "   drop = Dropout(0.5)(concatenate_4)\n",
        "   conv2 = Conv2D(20, kernel_size=(1,1),padding='valid',activation='relu')(drop)\n",
        "   gap = GlobalAveragePooling2D()(conv2)\n",
        "   softmax = Activation(\"softmax\")(gap)\n",
        "   model = Model(inputs=inputs, outputs=softmax)\n",
        "   opt = keras.optimizers.Adam(learning_rate=0.001)  \n",
        "   model.compile(loss= 'categorical_crossentropy' , optimizer= opt , metrics=['accuracy'])\n",
        "   return model"
      ],
      "execution_count": 12,
      "outputs": []
    },
    {
      "cell_type": "markdown",
      "metadata": {
        "id": "fmCASXO0iNkC"
      },
      "source": [
        "#Grille de recherche "
      ]
    },
    {
      "cell_type": "code",
      "metadata": {
        "colab": {
          "base_uri": "https://localhost:8080/",
          "height": 403
        },
        "id": "1MZL_DkZluCI",
        "outputId": "ec82cd92-839b-4d05-d202-77a0df96944c"
      },
      "source": [
        "epochs=20\n",
        "batch_size=8\n",
        "model = KerasClassifier(build_fn=build_model,epochs=epochs,batch_size=batch_size)\n",
        "# definir les params à évaluer par la grille\n",
        "param_grid = {\"epochs\" : [20,40,60,80,100],\n",
        "\"batch_size\" : [8, 16, 32, 64, 128]}\n",
        "\n",
        "grid = GridSearchCV(estimator=model, param_grid=param_grid, cv=3)\n",
        "\n",
        "\n",
        "grid_result = grid.fit(X_train,y_train,verbose=2)\n",
        "# afficher les résultats\n",
        "print(\"Best: %f using %s\" % (grid_result.best_score_, grid_result.best_params_))\n",
        "means = grid_result.cv_results_['mean_test_score']\n",
        "stds = grid_result.cv_results_['std_test_score']\n",
        "params = grid_result.cv_results_['params']\n",
        "for mean, stdev, param in zip(means, stds, params):\n",
        "    print(\"%f (%f) with: %r\" % (mean, stdev, param))"
      ],
      "execution_count": 13,
      "outputs": [
        {
          "output_type": "stream",
          "text": [
            "Epoch 1/20\n"
          ],
          "name": "stdout"
        },
        {
          "output_type": "error",
          "ename": "KeyboardInterrupt",
          "evalue": "ignored",
          "traceback": [
            "\u001b[0;31m---------------------------------------------------------------------------\u001b[0m",
            "\u001b[0;31mKeyboardInterrupt\u001b[0m                         Traceback (most recent call last)",
            "\u001b[0;32m<ipython-input-13-7fc972a312be>\u001b[0m in \u001b[0;36m<module>\u001b[0;34m()\u001b[0m\n\u001b[1;32m     20\u001b[0m \u001b[0;34m\u001b[0m\u001b[0m\n\u001b[1;32m     21\u001b[0m \u001b[0;34m\u001b[0m\u001b[0m\n\u001b[0;32m---> 22\u001b[0;31m \u001b[0mgrid_result\u001b[0m \u001b[0;34m=\u001b[0m \u001b[0mgrid\u001b[0m\u001b[0;34m.\u001b[0m\u001b[0mfit\u001b[0m\u001b[0;34m(\u001b[0m\u001b[0mX_train\u001b[0m\u001b[0;34m,\u001b[0m\u001b[0my_train\u001b[0m\u001b[0;34m,\u001b[0m\u001b[0mverbose\u001b[0m\u001b[0;34m=\u001b[0m\u001b[0;36m2\u001b[0m\u001b[0;34m)\u001b[0m\u001b[0;34m\u001b[0m\u001b[0;34m\u001b[0m\u001b[0m\n\u001b[0m\u001b[1;32m     23\u001b[0m \u001b[0;31m# afficher les résultats\u001b[0m\u001b[0;34m\u001b[0m\u001b[0;34m\u001b[0m\u001b[0;34m\u001b[0m\u001b[0m\n\u001b[1;32m     24\u001b[0m \u001b[0mprint\u001b[0m\u001b[0;34m(\u001b[0m\u001b[0;34m\"Best: %f using %s\"\u001b[0m \u001b[0;34m%\u001b[0m \u001b[0;34m(\u001b[0m\u001b[0mgrid_result\u001b[0m\u001b[0;34m.\u001b[0m\u001b[0mbest_score_\u001b[0m\u001b[0;34m,\u001b[0m \u001b[0mgrid_result\u001b[0m\u001b[0;34m.\u001b[0m\u001b[0mbest_params_\u001b[0m\u001b[0;34m)\u001b[0m\u001b[0;34m)\u001b[0m\u001b[0;34m\u001b[0m\u001b[0;34m\u001b[0m\u001b[0m\n",
            "\u001b[0;32m/usr/local/lib/python3.6/dist-packages/sklearn/model_selection/_search.py\u001b[0m in \u001b[0;36mfit\u001b[0;34m(self, X, y, groups, **fit_params)\u001b[0m\n\u001b[1;32m    708\u001b[0m                 \u001b[0;32mreturn\u001b[0m \u001b[0mresults\u001b[0m\u001b[0;34m\u001b[0m\u001b[0;34m\u001b[0m\u001b[0m\n\u001b[1;32m    709\u001b[0m \u001b[0;34m\u001b[0m\u001b[0m\n\u001b[0;32m--> 710\u001b[0;31m             \u001b[0mself\u001b[0m\u001b[0;34m.\u001b[0m\u001b[0m_run_search\u001b[0m\u001b[0;34m(\u001b[0m\u001b[0mevaluate_candidates\u001b[0m\u001b[0;34m)\u001b[0m\u001b[0;34m\u001b[0m\u001b[0;34m\u001b[0m\u001b[0m\n\u001b[0m\u001b[1;32m    711\u001b[0m \u001b[0;34m\u001b[0m\u001b[0m\n\u001b[1;32m    712\u001b[0m         \u001b[0;31m# For multi-metric evaluation, store the best_index_, best_params_ and\u001b[0m\u001b[0;34m\u001b[0m\u001b[0;34m\u001b[0m\u001b[0;34m\u001b[0m\u001b[0m\n",
            "\u001b[0;32m/usr/local/lib/python3.6/dist-packages/sklearn/model_selection/_search.py\u001b[0m in \u001b[0;36m_run_search\u001b[0;34m(self, evaluate_candidates)\u001b[0m\n\u001b[1;32m   1149\u001b[0m     \u001b[0;32mdef\u001b[0m \u001b[0m_run_search\u001b[0m\u001b[0;34m(\u001b[0m\u001b[0mself\u001b[0m\u001b[0;34m,\u001b[0m \u001b[0mevaluate_candidates\u001b[0m\u001b[0;34m)\u001b[0m\u001b[0;34m:\u001b[0m\u001b[0;34m\u001b[0m\u001b[0;34m\u001b[0m\u001b[0m\n\u001b[1;32m   1150\u001b[0m         \u001b[0;34m\"\"\"Search all candidates in param_grid\"\"\"\u001b[0m\u001b[0;34m\u001b[0m\u001b[0;34m\u001b[0m\u001b[0m\n\u001b[0;32m-> 1151\u001b[0;31m         \u001b[0mevaluate_candidates\u001b[0m\u001b[0;34m(\u001b[0m\u001b[0mParameterGrid\u001b[0m\u001b[0;34m(\u001b[0m\u001b[0mself\u001b[0m\u001b[0;34m.\u001b[0m\u001b[0mparam_grid\u001b[0m\u001b[0;34m)\u001b[0m\u001b[0;34m)\u001b[0m\u001b[0;34m\u001b[0m\u001b[0;34m\u001b[0m\u001b[0m\n\u001b[0m\u001b[1;32m   1152\u001b[0m \u001b[0;34m\u001b[0m\u001b[0m\n\u001b[1;32m   1153\u001b[0m \u001b[0;34m\u001b[0m\u001b[0m\n",
            "\u001b[0;32m/usr/local/lib/python3.6/dist-packages/sklearn/model_selection/_search.py\u001b[0m in \u001b[0;36mevaluate_candidates\u001b[0;34m(candidate_params)\u001b[0m\n\u001b[1;32m    687\u001b[0m                                \u001b[0;32mfor\u001b[0m \u001b[0mparameters\u001b[0m\u001b[0;34m,\u001b[0m \u001b[0;34m(\u001b[0m\u001b[0mtrain\u001b[0m\u001b[0;34m,\u001b[0m \u001b[0mtest\u001b[0m\u001b[0;34m)\u001b[0m\u001b[0;34m\u001b[0m\u001b[0;34m\u001b[0m\u001b[0m\n\u001b[1;32m    688\u001b[0m                                in product(candidate_params,\n\u001b[0;32m--> 689\u001b[0;31m                                           cv.split(X, y, groups)))\n\u001b[0m\u001b[1;32m    690\u001b[0m \u001b[0;34m\u001b[0m\u001b[0m\n\u001b[1;32m    691\u001b[0m                 \u001b[0;32mif\u001b[0m \u001b[0mlen\u001b[0m\u001b[0;34m(\u001b[0m\u001b[0mout\u001b[0m\u001b[0;34m)\u001b[0m \u001b[0;34m<\u001b[0m \u001b[0;36m1\u001b[0m\u001b[0;34m:\u001b[0m\u001b[0;34m\u001b[0m\u001b[0;34m\u001b[0m\u001b[0m\n",
            "\u001b[0;32m/usr/local/lib/python3.6/dist-packages/joblib/parallel.py\u001b[0m in \u001b[0;36m__call__\u001b[0;34m(self, iterable)\u001b[0m\n\u001b[1;32m   1046\u001b[0m             \u001b[0;31m# remaining jobs.\u001b[0m\u001b[0;34m\u001b[0m\u001b[0;34m\u001b[0m\u001b[0;34m\u001b[0m\u001b[0m\n\u001b[1;32m   1047\u001b[0m             \u001b[0mself\u001b[0m\u001b[0;34m.\u001b[0m\u001b[0m_iterating\u001b[0m \u001b[0;34m=\u001b[0m \u001b[0;32mFalse\u001b[0m\u001b[0;34m\u001b[0m\u001b[0;34m\u001b[0m\u001b[0m\n\u001b[0;32m-> 1048\u001b[0;31m             \u001b[0;32mif\u001b[0m \u001b[0mself\u001b[0m\u001b[0;34m.\u001b[0m\u001b[0mdispatch_one_batch\u001b[0m\u001b[0;34m(\u001b[0m\u001b[0miterator\u001b[0m\u001b[0;34m)\u001b[0m\u001b[0;34m:\u001b[0m\u001b[0;34m\u001b[0m\u001b[0;34m\u001b[0m\u001b[0m\n\u001b[0m\u001b[1;32m   1049\u001b[0m                 \u001b[0mself\u001b[0m\u001b[0;34m.\u001b[0m\u001b[0m_iterating\u001b[0m \u001b[0;34m=\u001b[0m \u001b[0mself\u001b[0m\u001b[0;34m.\u001b[0m\u001b[0m_original_iterator\u001b[0m \u001b[0;32mis\u001b[0m \u001b[0;32mnot\u001b[0m \u001b[0;32mNone\u001b[0m\u001b[0;34m\u001b[0m\u001b[0;34m\u001b[0m\u001b[0m\n\u001b[1;32m   1050\u001b[0m \u001b[0;34m\u001b[0m\u001b[0m\n",
            "\u001b[0;32m/usr/local/lib/python3.6/dist-packages/joblib/parallel.py\u001b[0m in \u001b[0;36mdispatch_one_batch\u001b[0;34m(self, iterator)\u001b[0m\n\u001b[1;32m    864\u001b[0m                 \u001b[0;32mreturn\u001b[0m \u001b[0;32mFalse\u001b[0m\u001b[0;34m\u001b[0m\u001b[0;34m\u001b[0m\u001b[0m\n\u001b[1;32m    865\u001b[0m             \u001b[0;32melse\u001b[0m\u001b[0;34m:\u001b[0m\u001b[0;34m\u001b[0m\u001b[0;34m\u001b[0m\u001b[0m\n\u001b[0;32m--> 866\u001b[0;31m                 \u001b[0mself\u001b[0m\u001b[0;34m.\u001b[0m\u001b[0m_dispatch\u001b[0m\u001b[0;34m(\u001b[0m\u001b[0mtasks\u001b[0m\u001b[0;34m)\u001b[0m\u001b[0;34m\u001b[0m\u001b[0;34m\u001b[0m\u001b[0m\n\u001b[0m\u001b[1;32m    867\u001b[0m                 \u001b[0;32mreturn\u001b[0m \u001b[0;32mTrue\u001b[0m\u001b[0;34m\u001b[0m\u001b[0;34m\u001b[0m\u001b[0m\n\u001b[1;32m    868\u001b[0m \u001b[0;34m\u001b[0m\u001b[0m\n",
            "\u001b[0;32m/usr/local/lib/python3.6/dist-packages/joblib/parallel.py\u001b[0m in \u001b[0;36m_dispatch\u001b[0;34m(self, batch)\u001b[0m\n\u001b[1;32m    782\u001b[0m         \u001b[0;32mwith\u001b[0m \u001b[0mself\u001b[0m\u001b[0;34m.\u001b[0m\u001b[0m_lock\u001b[0m\u001b[0;34m:\u001b[0m\u001b[0;34m\u001b[0m\u001b[0;34m\u001b[0m\u001b[0m\n\u001b[1;32m    783\u001b[0m             \u001b[0mjob_idx\u001b[0m \u001b[0;34m=\u001b[0m \u001b[0mlen\u001b[0m\u001b[0;34m(\u001b[0m\u001b[0mself\u001b[0m\u001b[0;34m.\u001b[0m\u001b[0m_jobs\u001b[0m\u001b[0;34m)\u001b[0m\u001b[0;34m\u001b[0m\u001b[0;34m\u001b[0m\u001b[0m\n\u001b[0;32m--> 784\u001b[0;31m             \u001b[0mjob\u001b[0m \u001b[0;34m=\u001b[0m \u001b[0mself\u001b[0m\u001b[0;34m.\u001b[0m\u001b[0m_backend\u001b[0m\u001b[0;34m.\u001b[0m\u001b[0mapply_async\u001b[0m\u001b[0;34m(\u001b[0m\u001b[0mbatch\u001b[0m\u001b[0;34m,\u001b[0m \u001b[0mcallback\u001b[0m\u001b[0;34m=\u001b[0m\u001b[0mcb\u001b[0m\u001b[0;34m)\u001b[0m\u001b[0;34m\u001b[0m\u001b[0;34m\u001b[0m\u001b[0m\n\u001b[0m\u001b[1;32m    785\u001b[0m             \u001b[0;31m# A job can complete so quickly than its callback is\u001b[0m\u001b[0;34m\u001b[0m\u001b[0;34m\u001b[0m\u001b[0;34m\u001b[0m\u001b[0m\n\u001b[1;32m    786\u001b[0m             \u001b[0;31m# called before we get here, causing self._jobs to\u001b[0m\u001b[0;34m\u001b[0m\u001b[0;34m\u001b[0m\u001b[0;34m\u001b[0m\u001b[0m\n",
            "\u001b[0;32m/usr/local/lib/python3.6/dist-packages/joblib/_parallel_backends.py\u001b[0m in \u001b[0;36mapply_async\u001b[0;34m(self, func, callback)\u001b[0m\n\u001b[1;32m    206\u001b[0m     \u001b[0;32mdef\u001b[0m \u001b[0mapply_async\u001b[0m\u001b[0;34m(\u001b[0m\u001b[0mself\u001b[0m\u001b[0;34m,\u001b[0m \u001b[0mfunc\u001b[0m\u001b[0;34m,\u001b[0m \u001b[0mcallback\u001b[0m\u001b[0;34m=\u001b[0m\u001b[0;32mNone\u001b[0m\u001b[0;34m)\u001b[0m\u001b[0;34m:\u001b[0m\u001b[0;34m\u001b[0m\u001b[0;34m\u001b[0m\u001b[0m\n\u001b[1;32m    207\u001b[0m         \u001b[0;34m\"\"\"Schedule a func to be run\"\"\"\u001b[0m\u001b[0;34m\u001b[0m\u001b[0;34m\u001b[0m\u001b[0m\n\u001b[0;32m--> 208\u001b[0;31m         \u001b[0mresult\u001b[0m \u001b[0;34m=\u001b[0m \u001b[0mImmediateResult\u001b[0m\u001b[0;34m(\u001b[0m\u001b[0mfunc\u001b[0m\u001b[0;34m)\u001b[0m\u001b[0;34m\u001b[0m\u001b[0;34m\u001b[0m\u001b[0m\n\u001b[0m\u001b[1;32m    209\u001b[0m         \u001b[0;32mif\u001b[0m \u001b[0mcallback\u001b[0m\u001b[0;34m:\u001b[0m\u001b[0;34m\u001b[0m\u001b[0;34m\u001b[0m\u001b[0m\n\u001b[1;32m    210\u001b[0m             \u001b[0mcallback\u001b[0m\u001b[0;34m(\u001b[0m\u001b[0mresult\u001b[0m\u001b[0;34m)\u001b[0m\u001b[0;34m\u001b[0m\u001b[0;34m\u001b[0m\u001b[0m\n",
            "\u001b[0;32m/usr/local/lib/python3.6/dist-packages/joblib/_parallel_backends.py\u001b[0m in \u001b[0;36m__init__\u001b[0;34m(self, batch)\u001b[0m\n\u001b[1;32m    570\u001b[0m         \u001b[0;31m# Don't delay the application, to avoid keeping the input\u001b[0m\u001b[0;34m\u001b[0m\u001b[0;34m\u001b[0m\u001b[0;34m\u001b[0m\u001b[0m\n\u001b[1;32m    571\u001b[0m         \u001b[0;31m# arguments in memory\u001b[0m\u001b[0;34m\u001b[0m\u001b[0;34m\u001b[0m\u001b[0;34m\u001b[0m\u001b[0m\n\u001b[0;32m--> 572\u001b[0;31m         \u001b[0mself\u001b[0m\u001b[0;34m.\u001b[0m\u001b[0mresults\u001b[0m \u001b[0;34m=\u001b[0m \u001b[0mbatch\u001b[0m\u001b[0;34m(\u001b[0m\u001b[0;34m)\u001b[0m\u001b[0;34m\u001b[0m\u001b[0;34m\u001b[0m\u001b[0m\n\u001b[0m\u001b[1;32m    573\u001b[0m \u001b[0;34m\u001b[0m\u001b[0m\n\u001b[1;32m    574\u001b[0m     \u001b[0;32mdef\u001b[0m \u001b[0mget\u001b[0m\u001b[0;34m(\u001b[0m\u001b[0mself\u001b[0m\u001b[0;34m)\u001b[0m\u001b[0;34m:\u001b[0m\u001b[0;34m\u001b[0m\u001b[0;34m\u001b[0m\u001b[0m\n",
            "\u001b[0;32m/usr/local/lib/python3.6/dist-packages/joblib/parallel.py\u001b[0m in \u001b[0;36m__call__\u001b[0;34m(self)\u001b[0m\n\u001b[1;32m    261\u001b[0m         \u001b[0;32mwith\u001b[0m \u001b[0mparallel_backend\u001b[0m\u001b[0;34m(\u001b[0m\u001b[0mself\u001b[0m\u001b[0;34m.\u001b[0m\u001b[0m_backend\u001b[0m\u001b[0;34m,\u001b[0m \u001b[0mn_jobs\u001b[0m\u001b[0;34m=\u001b[0m\u001b[0mself\u001b[0m\u001b[0;34m.\u001b[0m\u001b[0m_n_jobs\u001b[0m\u001b[0;34m)\u001b[0m\u001b[0;34m:\u001b[0m\u001b[0;34m\u001b[0m\u001b[0;34m\u001b[0m\u001b[0m\n\u001b[1;32m    262\u001b[0m             return [func(*args, **kwargs)\n\u001b[0;32m--> 263\u001b[0;31m                     for func, args, kwargs in self.items]\n\u001b[0m\u001b[1;32m    264\u001b[0m \u001b[0;34m\u001b[0m\u001b[0m\n\u001b[1;32m    265\u001b[0m     \u001b[0;32mdef\u001b[0m \u001b[0m__reduce__\u001b[0m\u001b[0;34m(\u001b[0m\u001b[0mself\u001b[0m\u001b[0;34m)\u001b[0m\u001b[0;34m:\u001b[0m\u001b[0;34m\u001b[0m\u001b[0;34m\u001b[0m\u001b[0m\n",
            "\u001b[0;32m/usr/local/lib/python3.6/dist-packages/joblib/parallel.py\u001b[0m in \u001b[0;36m<listcomp>\u001b[0;34m(.0)\u001b[0m\n\u001b[1;32m    261\u001b[0m         \u001b[0;32mwith\u001b[0m \u001b[0mparallel_backend\u001b[0m\u001b[0;34m(\u001b[0m\u001b[0mself\u001b[0m\u001b[0;34m.\u001b[0m\u001b[0m_backend\u001b[0m\u001b[0;34m,\u001b[0m \u001b[0mn_jobs\u001b[0m\u001b[0;34m=\u001b[0m\u001b[0mself\u001b[0m\u001b[0;34m.\u001b[0m\u001b[0m_n_jobs\u001b[0m\u001b[0;34m)\u001b[0m\u001b[0;34m:\u001b[0m\u001b[0;34m\u001b[0m\u001b[0;34m\u001b[0m\u001b[0m\n\u001b[1;32m    262\u001b[0m             return [func(*args, **kwargs)\n\u001b[0;32m--> 263\u001b[0;31m                     for func, args, kwargs in self.items]\n\u001b[0m\u001b[1;32m    264\u001b[0m \u001b[0;34m\u001b[0m\u001b[0m\n\u001b[1;32m    265\u001b[0m     \u001b[0;32mdef\u001b[0m \u001b[0m__reduce__\u001b[0m\u001b[0;34m(\u001b[0m\u001b[0mself\u001b[0m\u001b[0;34m)\u001b[0m\u001b[0;34m:\u001b[0m\u001b[0;34m\u001b[0m\u001b[0;34m\u001b[0m\u001b[0m\n",
            "\u001b[0;32m/usr/local/lib/python3.6/dist-packages/sklearn/model_selection/_validation.py\u001b[0m in \u001b[0;36m_fit_and_score\u001b[0;34m(estimator, X, y, scorer, train, test, verbose, parameters, fit_params, return_train_score, return_parameters, return_n_test_samples, return_times, return_estimator, error_score)\u001b[0m\n\u001b[1;32m    513\u001b[0m             \u001b[0mestimator\u001b[0m\u001b[0;34m.\u001b[0m\u001b[0mfit\u001b[0m\u001b[0;34m(\u001b[0m\u001b[0mX_train\u001b[0m\u001b[0;34m,\u001b[0m \u001b[0;34m**\u001b[0m\u001b[0mfit_params\u001b[0m\u001b[0;34m)\u001b[0m\u001b[0;34m\u001b[0m\u001b[0;34m\u001b[0m\u001b[0m\n\u001b[1;32m    514\u001b[0m         \u001b[0;32melse\u001b[0m\u001b[0;34m:\u001b[0m\u001b[0;34m\u001b[0m\u001b[0;34m\u001b[0m\u001b[0m\n\u001b[0;32m--> 515\u001b[0;31m             \u001b[0mestimator\u001b[0m\u001b[0;34m.\u001b[0m\u001b[0mfit\u001b[0m\u001b[0;34m(\u001b[0m\u001b[0mX_train\u001b[0m\u001b[0;34m,\u001b[0m \u001b[0my_train\u001b[0m\u001b[0;34m,\u001b[0m \u001b[0;34m**\u001b[0m\u001b[0mfit_params\u001b[0m\u001b[0;34m)\u001b[0m\u001b[0;34m\u001b[0m\u001b[0;34m\u001b[0m\u001b[0m\n\u001b[0m\u001b[1;32m    516\u001b[0m \u001b[0;34m\u001b[0m\u001b[0m\n\u001b[1;32m    517\u001b[0m     \u001b[0;32mexcept\u001b[0m \u001b[0mException\u001b[0m \u001b[0;32mas\u001b[0m \u001b[0me\u001b[0m\u001b[0;34m:\u001b[0m\u001b[0;34m\u001b[0m\u001b[0;34m\u001b[0m\u001b[0m\n",
            "\u001b[0;32m/usr/local/lib/python3.6/dist-packages/tensorflow/python/keras/wrappers/scikit_learn.py\u001b[0m in \u001b[0;36mfit\u001b[0;34m(self, x, y, **kwargs)\u001b[0m\n\u001b[1;32m    221\u001b[0m       \u001b[0;32mraise\u001b[0m \u001b[0mValueError\u001b[0m\u001b[0;34m(\u001b[0m\u001b[0;34m'Invalid shape for y: '\u001b[0m \u001b[0;34m+\u001b[0m \u001b[0mstr\u001b[0m\u001b[0;34m(\u001b[0m\u001b[0my\u001b[0m\u001b[0;34m.\u001b[0m\u001b[0mshape\u001b[0m\u001b[0;34m)\u001b[0m\u001b[0;34m)\u001b[0m\u001b[0;34m\u001b[0m\u001b[0;34m\u001b[0m\u001b[0m\n\u001b[1;32m    222\u001b[0m     \u001b[0mself\u001b[0m\u001b[0;34m.\u001b[0m\u001b[0mn_classes_\u001b[0m \u001b[0;34m=\u001b[0m \u001b[0mlen\u001b[0m\u001b[0;34m(\u001b[0m\u001b[0mself\u001b[0m\u001b[0;34m.\u001b[0m\u001b[0mclasses_\u001b[0m\u001b[0;34m)\u001b[0m\u001b[0;34m\u001b[0m\u001b[0;34m\u001b[0m\u001b[0m\n\u001b[0;32m--> 223\u001b[0;31m     \u001b[0;32mreturn\u001b[0m \u001b[0msuper\u001b[0m\u001b[0;34m(\u001b[0m\u001b[0mKerasClassifier\u001b[0m\u001b[0;34m,\u001b[0m \u001b[0mself\u001b[0m\u001b[0;34m)\u001b[0m\u001b[0;34m.\u001b[0m\u001b[0mfit\u001b[0m\u001b[0;34m(\u001b[0m\u001b[0mx\u001b[0m\u001b[0;34m,\u001b[0m \u001b[0my\u001b[0m\u001b[0;34m,\u001b[0m \u001b[0;34m**\u001b[0m\u001b[0mkwargs\u001b[0m\u001b[0;34m)\u001b[0m\u001b[0;34m\u001b[0m\u001b[0;34m\u001b[0m\u001b[0m\n\u001b[0m\u001b[1;32m    224\u001b[0m \u001b[0;34m\u001b[0m\u001b[0m\n\u001b[1;32m    225\u001b[0m   \u001b[0;32mdef\u001b[0m \u001b[0mpredict\u001b[0m\u001b[0;34m(\u001b[0m\u001b[0mself\u001b[0m\u001b[0;34m,\u001b[0m \u001b[0mx\u001b[0m\u001b[0;34m,\u001b[0m \u001b[0;34m**\u001b[0m\u001b[0mkwargs\u001b[0m\u001b[0;34m)\u001b[0m\u001b[0;34m:\u001b[0m\u001b[0;34m\u001b[0m\u001b[0;34m\u001b[0m\u001b[0m\n",
            "\u001b[0;32m/usr/local/lib/python3.6/dist-packages/tensorflow/python/keras/wrappers/scikit_learn.py\u001b[0m in \u001b[0;36mfit\u001b[0;34m(self, x, y, **kwargs)\u001b[0m\n\u001b[1;32m    164\u001b[0m     \u001b[0mfit_args\u001b[0m\u001b[0;34m.\u001b[0m\u001b[0mupdate\u001b[0m\u001b[0;34m(\u001b[0m\u001b[0mkwargs\u001b[0m\u001b[0;34m)\u001b[0m\u001b[0;34m\u001b[0m\u001b[0;34m\u001b[0m\u001b[0m\n\u001b[1;32m    165\u001b[0m \u001b[0;34m\u001b[0m\u001b[0m\n\u001b[0;32m--> 166\u001b[0;31m     \u001b[0mhistory\u001b[0m \u001b[0;34m=\u001b[0m \u001b[0mself\u001b[0m\u001b[0;34m.\u001b[0m\u001b[0mmodel\u001b[0m\u001b[0;34m.\u001b[0m\u001b[0mfit\u001b[0m\u001b[0;34m(\u001b[0m\u001b[0mx\u001b[0m\u001b[0;34m,\u001b[0m \u001b[0my\u001b[0m\u001b[0;34m,\u001b[0m \u001b[0;34m**\u001b[0m\u001b[0mfit_args\u001b[0m\u001b[0;34m)\u001b[0m\u001b[0;34m\u001b[0m\u001b[0;34m\u001b[0m\u001b[0m\n\u001b[0m\u001b[1;32m    167\u001b[0m \u001b[0;34m\u001b[0m\u001b[0m\n\u001b[1;32m    168\u001b[0m     \u001b[0;32mreturn\u001b[0m \u001b[0mhistory\u001b[0m\u001b[0;34m\u001b[0m\u001b[0;34m\u001b[0m\u001b[0m\n",
            "\u001b[0;32m/usr/local/lib/python3.6/dist-packages/tensorflow/python/keras/engine/training.py\u001b[0m in \u001b[0;36m_method_wrapper\u001b[0;34m(self, *args, **kwargs)\u001b[0m\n\u001b[1;32m    106\u001b[0m   \u001b[0;32mdef\u001b[0m \u001b[0m_method_wrapper\u001b[0m\u001b[0;34m(\u001b[0m\u001b[0mself\u001b[0m\u001b[0;34m,\u001b[0m \u001b[0;34m*\u001b[0m\u001b[0margs\u001b[0m\u001b[0;34m,\u001b[0m \u001b[0;34m**\u001b[0m\u001b[0mkwargs\u001b[0m\u001b[0;34m)\u001b[0m\u001b[0;34m:\u001b[0m\u001b[0;34m\u001b[0m\u001b[0;34m\u001b[0m\u001b[0m\n\u001b[1;32m    107\u001b[0m     \u001b[0;32mif\u001b[0m \u001b[0;32mnot\u001b[0m \u001b[0mself\u001b[0m\u001b[0;34m.\u001b[0m\u001b[0m_in_multi_worker_mode\u001b[0m\u001b[0;34m(\u001b[0m\u001b[0;34m)\u001b[0m\u001b[0;34m:\u001b[0m  \u001b[0;31m# pylint: disable=protected-access\u001b[0m\u001b[0;34m\u001b[0m\u001b[0;34m\u001b[0m\u001b[0m\n\u001b[0;32m--> 108\u001b[0;31m       \u001b[0;32mreturn\u001b[0m \u001b[0mmethod\u001b[0m\u001b[0;34m(\u001b[0m\u001b[0mself\u001b[0m\u001b[0;34m,\u001b[0m \u001b[0;34m*\u001b[0m\u001b[0margs\u001b[0m\u001b[0;34m,\u001b[0m \u001b[0;34m**\u001b[0m\u001b[0mkwargs\u001b[0m\u001b[0;34m)\u001b[0m\u001b[0;34m\u001b[0m\u001b[0;34m\u001b[0m\u001b[0m\n\u001b[0m\u001b[1;32m    109\u001b[0m \u001b[0;34m\u001b[0m\u001b[0m\n\u001b[1;32m    110\u001b[0m     \u001b[0;31m# Running inside `run_distribute_coordinator` already.\u001b[0m\u001b[0;34m\u001b[0m\u001b[0;34m\u001b[0m\u001b[0;34m\u001b[0m\u001b[0m\n",
            "\u001b[0;32m/usr/local/lib/python3.6/dist-packages/tensorflow/python/keras/engine/training.py\u001b[0m in \u001b[0;36mfit\u001b[0;34m(self, x, y, batch_size, epochs, verbose, callbacks, validation_split, validation_data, shuffle, class_weight, sample_weight, initial_epoch, steps_per_epoch, validation_steps, validation_batch_size, validation_freq, max_queue_size, workers, use_multiprocessing)\u001b[0m\n\u001b[1;32m   1096\u001b[0m                 batch_size=batch_size):\n\u001b[1;32m   1097\u001b[0m               \u001b[0mcallbacks\u001b[0m\u001b[0;34m.\u001b[0m\u001b[0mon_train_batch_begin\u001b[0m\u001b[0;34m(\u001b[0m\u001b[0mstep\u001b[0m\u001b[0;34m)\u001b[0m\u001b[0;34m\u001b[0m\u001b[0;34m\u001b[0m\u001b[0m\n\u001b[0;32m-> 1098\u001b[0;31m               \u001b[0mtmp_logs\u001b[0m \u001b[0;34m=\u001b[0m \u001b[0mtrain_function\u001b[0m\u001b[0;34m(\u001b[0m\u001b[0miterator\u001b[0m\u001b[0;34m)\u001b[0m\u001b[0;34m\u001b[0m\u001b[0;34m\u001b[0m\u001b[0m\n\u001b[0m\u001b[1;32m   1099\u001b[0m               \u001b[0;32mif\u001b[0m \u001b[0mdata_handler\u001b[0m\u001b[0;34m.\u001b[0m\u001b[0mshould_sync\u001b[0m\u001b[0;34m:\u001b[0m\u001b[0;34m\u001b[0m\u001b[0;34m\u001b[0m\u001b[0m\n\u001b[1;32m   1100\u001b[0m                 \u001b[0mcontext\u001b[0m\u001b[0;34m.\u001b[0m\u001b[0masync_wait\u001b[0m\u001b[0;34m(\u001b[0m\u001b[0;34m)\u001b[0m\u001b[0;34m\u001b[0m\u001b[0;34m\u001b[0m\u001b[0m\n",
            "\u001b[0;32m/usr/local/lib/python3.6/dist-packages/tensorflow/python/eager/def_function.py\u001b[0m in \u001b[0;36m__call__\u001b[0;34m(self, *args, **kwds)\u001b[0m\n\u001b[1;32m    778\u001b[0m       \u001b[0;32melse\u001b[0m\u001b[0;34m:\u001b[0m\u001b[0;34m\u001b[0m\u001b[0;34m\u001b[0m\u001b[0m\n\u001b[1;32m    779\u001b[0m         \u001b[0mcompiler\u001b[0m \u001b[0;34m=\u001b[0m \u001b[0;34m\"nonXla\"\u001b[0m\u001b[0;34m\u001b[0m\u001b[0;34m\u001b[0m\u001b[0m\n\u001b[0;32m--> 780\u001b[0;31m         \u001b[0mresult\u001b[0m \u001b[0;34m=\u001b[0m \u001b[0mself\u001b[0m\u001b[0;34m.\u001b[0m\u001b[0m_call\u001b[0m\u001b[0;34m(\u001b[0m\u001b[0;34m*\u001b[0m\u001b[0margs\u001b[0m\u001b[0;34m,\u001b[0m \u001b[0;34m**\u001b[0m\u001b[0mkwds\u001b[0m\u001b[0;34m)\u001b[0m\u001b[0;34m\u001b[0m\u001b[0;34m\u001b[0m\u001b[0m\n\u001b[0m\u001b[1;32m    781\u001b[0m \u001b[0;34m\u001b[0m\u001b[0m\n\u001b[1;32m    782\u001b[0m       \u001b[0mnew_tracing_count\u001b[0m \u001b[0;34m=\u001b[0m \u001b[0mself\u001b[0m\u001b[0;34m.\u001b[0m\u001b[0m_get_tracing_count\u001b[0m\u001b[0;34m(\u001b[0m\u001b[0;34m)\u001b[0m\u001b[0;34m\u001b[0m\u001b[0;34m\u001b[0m\u001b[0m\n",
            "\u001b[0;32m/usr/local/lib/python3.6/dist-packages/tensorflow/python/eager/def_function.py\u001b[0m in \u001b[0;36m_call\u001b[0;34m(self, *args, **kwds)\u001b[0m\n\u001b[1;32m    838\u001b[0m         \u001b[0;31m# Lifting succeeded, so variables are initialized and we can run the\u001b[0m\u001b[0;34m\u001b[0m\u001b[0;34m\u001b[0m\u001b[0;34m\u001b[0m\u001b[0m\n\u001b[1;32m    839\u001b[0m         \u001b[0;31m# stateless function.\u001b[0m\u001b[0;34m\u001b[0m\u001b[0;34m\u001b[0m\u001b[0;34m\u001b[0m\u001b[0m\n\u001b[0;32m--> 840\u001b[0;31m         \u001b[0;32mreturn\u001b[0m \u001b[0mself\u001b[0m\u001b[0;34m.\u001b[0m\u001b[0m_stateless_fn\u001b[0m\u001b[0;34m(\u001b[0m\u001b[0;34m*\u001b[0m\u001b[0margs\u001b[0m\u001b[0;34m,\u001b[0m \u001b[0;34m**\u001b[0m\u001b[0mkwds\u001b[0m\u001b[0;34m)\u001b[0m\u001b[0;34m\u001b[0m\u001b[0;34m\u001b[0m\u001b[0m\n\u001b[0m\u001b[1;32m    841\u001b[0m     \u001b[0;32melse\u001b[0m\u001b[0;34m:\u001b[0m\u001b[0;34m\u001b[0m\u001b[0;34m\u001b[0m\u001b[0m\n\u001b[1;32m    842\u001b[0m       \u001b[0mcanon_args\u001b[0m\u001b[0;34m,\u001b[0m \u001b[0mcanon_kwds\u001b[0m \u001b[0;34m=\u001b[0m\u001b[0;31m \u001b[0m\u001b[0;31m\\\u001b[0m\u001b[0;34m\u001b[0m\u001b[0;34m\u001b[0m\u001b[0m\n",
            "\u001b[0;32m/usr/local/lib/python3.6/dist-packages/tensorflow/python/eager/function.py\u001b[0m in \u001b[0;36m__call__\u001b[0;34m(self, *args, **kwargs)\u001b[0m\n\u001b[1;32m   2827\u001b[0m     \u001b[0;32mwith\u001b[0m \u001b[0mself\u001b[0m\u001b[0;34m.\u001b[0m\u001b[0m_lock\u001b[0m\u001b[0;34m:\u001b[0m\u001b[0;34m\u001b[0m\u001b[0;34m\u001b[0m\u001b[0m\n\u001b[1;32m   2828\u001b[0m       \u001b[0mgraph_function\u001b[0m\u001b[0;34m,\u001b[0m \u001b[0margs\u001b[0m\u001b[0;34m,\u001b[0m \u001b[0mkwargs\u001b[0m \u001b[0;34m=\u001b[0m \u001b[0mself\u001b[0m\u001b[0;34m.\u001b[0m\u001b[0m_maybe_define_function\u001b[0m\u001b[0;34m(\u001b[0m\u001b[0margs\u001b[0m\u001b[0;34m,\u001b[0m \u001b[0mkwargs\u001b[0m\u001b[0;34m)\u001b[0m\u001b[0;34m\u001b[0m\u001b[0;34m\u001b[0m\u001b[0m\n\u001b[0;32m-> 2829\u001b[0;31m     \u001b[0;32mreturn\u001b[0m \u001b[0mgraph_function\u001b[0m\u001b[0;34m.\u001b[0m\u001b[0m_filtered_call\u001b[0m\u001b[0;34m(\u001b[0m\u001b[0margs\u001b[0m\u001b[0;34m,\u001b[0m \u001b[0mkwargs\u001b[0m\u001b[0;34m)\u001b[0m  \u001b[0;31m# pylint: disable=protected-access\u001b[0m\u001b[0;34m\u001b[0m\u001b[0;34m\u001b[0m\u001b[0m\n\u001b[0m\u001b[1;32m   2830\u001b[0m \u001b[0;34m\u001b[0m\u001b[0m\n\u001b[1;32m   2831\u001b[0m   \u001b[0;34m@\u001b[0m\u001b[0mproperty\u001b[0m\u001b[0;34m\u001b[0m\u001b[0;34m\u001b[0m\u001b[0m\n",
            "\u001b[0;32m/usr/local/lib/python3.6/dist-packages/tensorflow/python/eager/function.py\u001b[0m in \u001b[0;36m_filtered_call\u001b[0;34m(self, args, kwargs, cancellation_manager)\u001b[0m\n\u001b[1;32m   1846\u001b[0m                            resource_variable_ops.BaseResourceVariable))],\n\u001b[1;32m   1847\u001b[0m         \u001b[0mcaptured_inputs\u001b[0m\u001b[0;34m=\u001b[0m\u001b[0mself\u001b[0m\u001b[0;34m.\u001b[0m\u001b[0mcaptured_inputs\u001b[0m\u001b[0;34m,\u001b[0m\u001b[0;34m\u001b[0m\u001b[0;34m\u001b[0m\u001b[0m\n\u001b[0;32m-> 1848\u001b[0;31m         cancellation_manager=cancellation_manager)\n\u001b[0m\u001b[1;32m   1849\u001b[0m \u001b[0;34m\u001b[0m\u001b[0m\n\u001b[1;32m   1850\u001b[0m   \u001b[0;32mdef\u001b[0m \u001b[0m_call_flat\u001b[0m\u001b[0;34m(\u001b[0m\u001b[0mself\u001b[0m\u001b[0;34m,\u001b[0m \u001b[0margs\u001b[0m\u001b[0;34m,\u001b[0m \u001b[0mcaptured_inputs\u001b[0m\u001b[0;34m,\u001b[0m \u001b[0mcancellation_manager\u001b[0m\u001b[0;34m=\u001b[0m\u001b[0;32mNone\u001b[0m\u001b[0;34m)\u001b[0m\u001b[0;34m:\u001b[0m\u001b[0;34m\u001b[0m\u001b[0;34m\u001b[0m\u001b[0m\n",
            "\u001b[0;32m/usr/local/lib/python3.6/dist-packages/tensorflow/python/eager/function.py\u001b[0m in \u001b[0;36m_call_flat\u001b[0;34m(self, args, captured_inputs, cancellation_manager)\u001b[0m\n\u001b[1;32m   1922\u001b[0m       \u001b[0;31m# No tape is watching; skip to running the function.\u001b[0m\u001b[0;34m\u001b[0m\u001b[0;34m\u001b[0m\u001b[0;34m\u001b[0m\u001b[0m\n\u001b[1;32m   1923\u001b[0m       return self._build_call_outputs(self._inference_function.call(\n\u001b[0;32m-> 1924\u001b[0;31m           ctx, args, cancellation_manager=cancellation_manager))\n\u001b[0m\u001b[1;32m   1925\u001b[0m     forward_backward = self._select_forward_and_backward_functions(\n\u001b[1;32m   1926\u001b[0m         \u001b[0margs\u001b[0m\u001b[0;34m,\u001b[0m\u001b[0;34m\u001b[0m\u001b[0;34m\u001b[0m\u001b[0m\n",
            "\u001b[0;32m/usr/local/lib/python3.6/dist-packages/tensorflow/python/eager/function.py\u001b[0m in \u001b[0;36mcall\u001b[0;34m(self, ctx, args, cancellation_manager)\u001b[0m\n\u001b[1;32m    548\u001b[0m               \u001b[0minputs\u001b[0m\u001b[0;34m=\u001b[0m\u001b[0margs\u001b[0m\u001b[0;34m,\u001b[0m\u001b[0;34m\u001b[0m\u001b[0;34m\u001b[0m\u001b[0m\n\u001b[1;32m    549\u001b[0m               \u001b[0mattrs\u001b[0m\u001b[0;34m=\u001b[0m\u001b[0mattrs\u001b[0m\u001b[0;34m,\u001b[0m\u001b[0;34m\u001b[0m\u001b[0;34m\u001b[0m\u001b[0m\n\u001b[0;32m--> 550\u001b[0;31m               ctx=ctx)\n\u001b[0m\u001b[1;32m    551\u001b[0m         \u001b[0;32melse\u001b[0m\u001b[0;34m:\u001b[0m\u001b[0;34m\u001b[0m\u001b[0;34m\u001b[0m\u001b[0m\n\u001b[1;32m    552\u001b[0m           outputs = execute.execute_with_cancellation(\n",
            "\u001b[0;32m/usr/local/lib/python3.6/dist-packages/tensorflow/python/eager/execute.py\u001b[0m in \u001b[0;36mquick_execute\u001b[0;34m(op_name, num_outputs, inputs, attrs, ctx, name)\u001b[0m\n\u001b[1;32m     58\u001b[0m     \u001b[0mctx\u001b[0m\u001b[0;34m.\u001b[0m\u001b[0mensure_initialized\u001b[0m\u001b[0;34m(\u001b[0m\u001b[0;34m)\u001b[0m\u001b[0;34m\u001b[0m\u001b[0;34m\u001b[0m\u001b[0m\n\u001b[1;32m     59\u001b[0m     tensors = pywrap_tfe.TFE_Py_Execute(ctx._handle, device_name, op_name,\n\u001b[0;32m---> 60\u001b[0;31m                                         inputs, attrs, num_outputs)\n\u001b[0m\u001b[1;32m     61\u001b[0m   \u001b[0;32mexcept\u001b[0m \u001b[0mcore\u001b[0m\u001b[0;34m.\u001b[0m\u001b[0m_NotOkStatusException\u001b[0m \u001b[0;32mas\u001b[0m \u001b[0me\u001b[0m\u001b[0;34m:\u001b[0m\u001b[0;34m\u001b[0m\u001b[0;34m\u001b[0m\u001b[0m\n\u001b[1;32m     62\u001b[0m     \u001b[0;32mif\u001b[0m \u001b[0mname\u001b[0m \u001b[0;32mis\u001b[0m \u001b[0;32mnot\u001b[0m \u001b[0;32mNone\u001b[0m\u001b[0;34m:\u001b[0m\u001b[0;34m\u001b[0m\u001b[0;34m\u001b[0m\u001b[0m\n",
            "\u001b[0;31mKeyboardInterrupt\u001b[0m: "
          ]
        }
      ]
    },
    {
      "cell_type": "markdown",
      "metadata": {
        "id": "HMrrEOhliS_V"
      },
      "source": [
        "#Data augmentation"
      ]
    },
    {
      "cell_type": "code",
      "metadata": {
        "colab": {
          "base_uri": "https://localhost:8080/"
        },
        "id": "QLt14f8lbHnZ",
        "outputId": "74834e4c-7dc1-4e44-fe9a-e1eeb415ee5c"
      },
      "source": [
        "#charger la Datase\n",
        "BASE_PATH = \"BarkNet\"\n",
        "TRAIN = \"BarkNet_train\"\n",
        "TEST = \"BarkNet_test\"\n",
        "\n",
        "# chemins vers les repertoires train, val et test\n",
        "trainPath = os.path.sep.join([BASE_PATH, TRAIN])\n",
        "testPath = os.path.sep.join([BASE_PATH, TEST])\n",
        "\n",
        "# nbr total des image dans chacun des repo train test\n",
        "totalTrain = len(list(paths.list_images(trainPath)))\n",
        "print(totalTrain)\n",
        "# totalVal = len(list(paths.list_images(valPath)))\n",
        "totalTest = len(list(paths.list_images(testPath)))\n",
        "print(totalTest)"
      ],
      "execution_count": 18,
      "outputs": [
        {
          "output_type": "stream",
          "text": [
            "1912\n",
            "448\n"
          ],
          "name": "stdout"
        }
      ]
    },
    {
      "cell_type": "markdown",
      "metadata": {
        "id": "Jw8p-vm_iaVF"
      },
      "source": [
        "#Data augmentation"
      ]
    },
    {
      "cell_type": "code",
      "metadata": {
        "colab": {
          "base_uri": "https://localhost:8080/"
        },
        "id": "fTnaXpyEV1-x",
        "outputId": "b8cf8506-6d4e-47fe-da60-1cb6030df42a"
      },
      "source": [
        "\n",
        "batch_size = 128\n",
        "epochs = 100\n",
        "\n",
        "\n",
        "# instancier un objet ImageDataGenerator pour l'augmentation des donnees train\n",
        "\n",
        "trainAug = ImageDataGenerator(\n",
        "    horizontal_flip=True,)\n",
        "\n",
        "# instancier un objet ImageDataGenerator pour l'augmentation des donnees test\n",
        "testAug = ImageDataGenerator()\n",
        "\n",
        "# definir la moyenne des images ImageNet par plan RGB pour normaliser les images de la BarkNet\n",
        "mean = np.array([123.68, 116.779, 103.939], dtype=\"float32\")\n",
        "trainAug.mean = mean\n",
        "testAug.mean = mean\n",
        "\n",
        "# initialiser le generateur de train\n",
        "\n",
        "trainGen = trainAug.flow_from_directory(\n",
        "    trainPath,\n",
        "    class_mode=\"categorical\",\n",
        "    target_size=(224,224),\n",
        "    color_mode=\"rgb\",\n",
        "    shuffle=True,\n",
        "    batch_size=batch_size)\n",
        "\n",
        "#x, y = next(trainGen)\n",
        "\n",
        "# initialiser le generateur de test\n",
        "testGen  = testAug.flow_from_directory(\n",
        "    testPath,\n",
        "    class_mode=\"categorical\",\n",
        "    target_size=(224,224),\n",
        "    color_mode=\"rgb\",\n",
        "    shuffle=False,\n",
        "   \n",
        "    batch_size=batch_size)"
      ],
      "execution_count": 19,
      "outputs": [
        {
          "output_type": "stream",
          "text": [
            "Found 1912 images belonging to 20 classes.\n",
            "Found 448 images belonging to 20 classes.\n"
          ],
          "name": "stdout"
        }
      ]
    },
    {
      "cell_type": "markdown",
      "metadata": {
        "id": "xNzH3QV_ikrC"
      },
      "source": [
        "# entrainement du model"
      ]
    },
    {
      "cell_type": "code",
      "metadata": {
        "id": "nifWHorolxrn",
        "colab": {
          "base_uri": "https://localhost:8080/"
        },
        "outputId": "0bb3f595-d0d2-4adb-bc4c-0caef4045ed6"
      },
      "source": [
        "\n",
        "model = build_model()\n",
        "H = model.fit_generator(trainGen,\n",
        "     steps_per_epoch=totalTrain // batch_size,\n",
        "     validation_data=testGen,\n",
        "     validation_steps=totalTest // batch_size,\n",
        "     epochs=epochs) \n",
        "\n",
        "\n",
        "#H  = model.fit(trainGen, validation_data=testGen , verbose=1,batch_size=batch_size,epochs=epochs)"
      ],
      "execution_count": 20,
      "outputs": [
        {
          "output_type": "stream",
          "text": [
            "WARNING:tensorflow:From <ipython-input-20-16fbe18c340c>:7: Model.fit_generator (from tensorflow.python.keras.engine.training) is deprecated and will be removed in a future version.\n",
            "Instructions for updating:\n",
            "Please use Model.fit, which supports generators.\n",
            "Epoch 1/100\n",
            "14/14 [==============================] - 7s 497ms/step - loss: 3.0011 - accuracy: 0.0869 - val_loss: 2.8876 - val_accuracy: 0.1510\n",
            "Epoch 2/100\n",
            "14/14 [==============================] - 6s 437ms/step - loss: 2.9146 - accuracy: 0.0981 - val_loss: 2.8913 - val_accuracy: 0.1510\n",
            "Epoch 3/100\n",
            "14/14 [==============================] - 6s 445ms/step - loss: 2.9083 - accuracy: 0.1132 - val_loss: 2.8669 - val_accuracy: 0.1510\n",
            "Epoch 4/100\n",
            "14/14 [==============================] - 6s 441ms/step - loss: 2.9201 - accuracy: 0.1099 - val_loss: 2.8937 - val_accuracy: 0.1510\n",
            "Epoch 5/100\n",
            "14/14 [==============================] - 6s 446ms/step - loss: 2.8969 - accuracy: 0.0908 - val_loss: 2.8720 - val_accuracy: 0.1510\n",
            "Epoch 6/100\n",
            "14/14 [==============================] - 6s 455ms/step - loss: 2.8972 - accuracy: 0.1066 - val_loss: 2.8705 - val_accuracy: 0.1510\n",
            "Epoch 7/100\n",
            "14/14 [==============================] - 6s 448ms/step - loss: 2.8957 - accuracy: 0.1132 - val_loss: 2.8581 - val_accuracy: 0.1510\n",
            "Epoch 8/100\n",
            "14/14 [==============================] - 6s 439ms/step - loss: 2.8701 - accuracy: 0.1121 - val_loss: 2.8341 - val_accuracy: 0.1510\n",
            "Epoch 9/100\n",
            "14/14 [==============================] - 6s 441ms/step - loss: 2.8233 - accuracy: 0.1497 - val_loss: 2.7749 - val_accuracy: 0.1771\n",
            "Epoch 10/100\n",
            "14/14 [==============================] - 6s 450ms/step - loss: 2.8478 - accuracy: 0.1261 - val_loss: 2.8062 - val_accuracy: 0.1589\n",
            "Epoch 11/100\n",
            "14/14 [==============================] - 6s 444ms/step - loss: 2.7531 - accuracy: 0.1362 - val_loss: 2.7550 - val_accuracy: 0.1198\n",
            "Epoch 12/100\n",
            "14/14 [==============================] - 6s 454ms/step - loss: 2.7184 - accuracy: 0.1547 - val_loss: 2.6238 - val_accuracy: 0.1979\n",
            "Epoch 13/100\n",
            "14/14 [==============================] - 6s 441ms/step - loss: 2.6659 - accuracy: 0.1665 - val_loss: 2.6433 - val_accuracy: 0.2083\n",
            "Epoch 14/100\n",
            "14/14 [==============================] - 6s 448ms/step - loss: 2.6441 - accuracy: 0.1811 - val_loss: 2.4544 - val_accuracy: 0.2214\n",
            "Epoch 15/100\n",
            "14/14 [==============================] - 6s 444ms/step - loss: 2.5756 - accuracy: 0.2007 - val_loss: 2.4436 - val_accuracy: 0.2812\n",
            "Epoch 16/100\n",
            "14/14 [==============================] - 6s 451ms/step - loss: 2.5110 - accuracy: 0.2209 - val_loss: 2.3441 - val_accuracy: 0.2995\n",
            "Epoch 17/100\n",
            "14/14 [==============================] - 7s 469ms/step - loss: 2.5179 - accuracy: 0.2113 - val_loss: 2.3593 - val_accuracy: 0.2109\n",
            "Epoch 18/100\n",
            "14/14 [==============================] - 6s 461ms/step - loss: 2.4384 - accuracy: 0.2298 - val_loss: 2.2502 - val_accuracy: 0.2995\n",
            "Epoch 19/100\n",
            "14/14 [==============================] - 6s 450ms/step - loss: 2.3816 - accuracy: 0.2309 - val_loss: 2.2110 - val_accuracy: 0.2943\n",
            "Epoch 20/100\n",
            "14/14 [==============================] - 6s 444ms/step - loss: 2.3501 - accuracy: 0.2506 - val_loss: 2.1984 - val_accuracy: 0.3099\n",
            "Epoch 21/100\n",
            "14/14 [==============================] - 6s 443ms/step - loss: 2.3098 - accuracy: 0.2506 - val_loss: 2.1876 - val_accuracy: 0.3177\n",
            "Epoch 22/100\n",
            "14/14 [==============================] - 6s 452ms/step - loss: 2.3321 - accuracy: 0.2623 - val_loss: 2.1324 - val_accuracy: 0.2969\n",
            "Epoch 23/100\n",
            "14/14 [==============================] - 6s 447ms/step - loss: 2.2399 - accuracy: 0.2685 - val_loss: 2.2966 - val_accuracy: 0.2370\n",
            "Epoch 24/100\n",
            "14/14 [==============================] - 6s 446ms/step - loss: 2.2447 - accuracy: 0.2629 - val_loss: 2.0102 - val_accuracy: 0.3464\n",
            "Epoch 25/100\n",
            "14/14 [==============================] - 6s 446ms/step - loss: 2.1580 - accuracy: 0.2919 - val_loss: 2.0236 - val_accuracy: 0.3542\n",
            "Epoch 26/100\n",
            "14/14 [==============================] - 6s 447ms/step - loss: 2.0961 - accuracy: 0.3251 - val_loss: 1.9889 - val_accuracy: 0.3646\n",
            "Epoch 27/100\n",
            "14/14 [==============================] - 6s 454ms/step - loss: 2.0317 - accuracy: 0.3352 - val_loss: 1.9897 - val_accuracy: 0.3646\n",
            "Epoch 28/100\n",
            "14/14 [==============================] - 6s 435ms/step - loss: 2.1286 - accuracy: 0.2904 - val_loss: 2.0398 - val_accuracy: 0.3411\n",
            "Epoch 29/100\n",
            "14/14 [==============================] - 6s 443ms/step - loss: 2.0529 - accuracy: 0.3324 - val_loss: 1.8730 - val_accuracy: 0.4219\n",
            "Epoch 30/100\n",
            "14/14 [==============================] - 6s 440ms/step - loss: 2.0416 - accuracy: 0.3274 - val_loss: 1.9337 - val_accuracy: 0.3620\n",
            "Epoch 31/100\n",
            "14/14 [==============================] - 6s 452ms/step - loss: 1.9817 - accuracy: 0.3487 - val_loss: 1.9502 - val_accuracy: 0.3620\n",
            "Epoch 32/100\n",
            "14/14 [==============================] - 6s 447ms/step - loss: 1.9473 - accuracy: 0.3408 - val_loss: 1.9004 - val_accuracy: 0.4062\n",
            "Epoch 33/100\n",
            "14/14 [==============================] - 6s 439ms/step - loss: 1.9485 - accuracy: 0.3621 - val_loss: 1.8781 - val_accuracy: 0.4167\n",
            "Epoch 34/100\n",
            "14/14 [==============================] - 6s 439ms/step - loss: 1.9151 - accuracy: 0.3683 - val_loss: 2.0128 - val_accuracy: 0.3776\n",
            "Epoch 35/100\n",
            "14/14 [==============================] - 6s 437ms/step - loss: 1.9196 - accuracy: 0.3655 - val_loss: 2.0658 - val_accuracy: 0.3385\n",
            "Epoch 36/100\n",
            "14/14 [==============================] - 6s 436ms/step - loss: 2.0280 - accuracy: 0.3374 - val_loss: 1.9680 - val_accuracy: 0.3906\n",
            "Epoch 37/100\n",
            "14/14 [==============================] - 6s 435ms/step - loss: 1.9086 - accuracy: 0.3739 - val_loss: 1.8362 - val_accuracy: 0.4010\n",
            "Epoch 38/100\n",
            "14/14 [==============================] - 6s 435ms/step - loss: 1.8691 - accuracy: 0.3800 - val_loss: 1.8472 - val_accuracy: 0.4219\n",
            "Epoch 39/100\n",
            "14/14 [==============================] - 6s 437ms/step - loss: 1.8421 - accuracy: 0.3784 - val_loss: 1.9975 - val_accuracy: 0.4010\n",
            "Epoch 40/100\n",
            "14/14 [==============================] - 6s 440ms/step - loss: 1.8655 - accuracy: 0.3834 - val_loss: 1.7677 - val_accuracy: 0.4219\n",
            "Epoch 41/100\n",
            "14/14 [==============================] - 6s 431ms/step - loss: 1.8386 - accuracy: 0.3879 - val_loss: 1.7638 - val_accuracy: 0.4635\n",
            "Epoch 42/100\n",
            "14/14 [==============================] - 6s 442ms/step - loss: 1.8312 - accuracy: 0.3862 - val_loss: 1.8437 - val_accuracy: 0.4010\n",
            "Epoch 43/100\n",
            "14/14 [==============================] - 6s 441ms/step - loss: 1.8208 - accuracy: 0.3941 - val_loss: 1.9254 - val_accuracy: 0.4271\n",
            "Epoch 44/100\n",
            "14/14 [==============================] - 6s 440ms/step - loss: 1.8520 - accuracy: 0.3823 - val_loss: 1.8947 - val_accuracy: 0.4219\n",
            "Epoch 45/100\n",
            "14/14 [==============================] - 6s 439ms/step - loss: 1.8139 - accuracy: 0.3845 - val_loss: 1.7007 - val_accuracy: 0.4557\n",
            "Epoch 46/100\n",
            "14/14 [==============================] - 6s 432ms/step - loss: 1.7573 - accuracy: 0.4025 - val_loss: 1.7464 - val_accuracy: 0.4297\n",
            "Epoch 47/100\n",
            "14/14 [==============================] - 6s 439ms/step - loss: 1.7805 - accuracy: 0.4008 - val_loss: 1.7771 - val_accuracy: 0.4349\n",
            "Epoch 48/100\n",
            "14/14 [==============================] - 6s 430ms/step - loss: 1.7403 - accuracy: 0.4086 - val_loss: 1.7029 - val_accuracy: 0.4531\n",
            "Epoch 49/100\n",
            "14/14 [==============================] - 6s 431ms/step - loss: 1.7722 - accuracy: 0.4058 - val_loss: 1.7300 - val_accuracy: 0.4505\n",
            "Epoch 50/100\n",
            "14/14 [==============================] - 6s 433ms/step - loss: 1.7362 - accuracy: 0.4232 - val_loss: 1.7006 - val_accuracy: 0.4505\n",
            "Epoch 51/100\n",
            "14/14 [==============================] - 6s 435ms/step - loss: 1.7488 - accuracy: 0.4109 - val_loss: 1.8538 - val_accuracy: 0.4141\n",
            "Epoch 52/100\n",
            "14/14 [==============================] - 6s 436ms/step - loss: 1.7277 - accuracy: 0.4232 - val_loss: 1.8024 - val_accuracy: 0.4219\n",
            "Epoch 53/100\n",
            "14/14 [==============================] - 6s 432ms/step - loss: 1.6543 - accuracy: 0.4383 - val_loss: 1.7770 - val_accuracy: 0.4271\n",
            "Epoch 54/100\n",
            "14/14 [==============================] - 6s 432ms/step - loss: 1.7341 - accuracy: 0.4193 - val_loss: 1.7874 - val_accuracy: 0.4193\n",
            "Epoch 55/100\n",
            "14/14 [==============================] - 6s 430ms/step - loss: 1.6898 - accuracy: 0.4291 - val_loss: 1.8774 - val_accuracy: 0.3854\n",
            "Epoch 56/100\n",
            "14/14 [==============================] - 6s 451ms/step - loss: 1.7522 - accuracy: 0.4170 - val_loss: 1.7145 - val_accuracy: 0.4766\n",
            "Epoch 57/100\n",
            "14/14 [==============================] - 6s 432ms/step - loss: 1.6694 - accuracy: 0.4417 - val_loss: 1.6668 - val_accuracy: 0.4818\n",
            "Epoch 58/100\n",
            "14/14 [==============================] - 6s 429ms/step - loss: 1.6592 - accuracy: 0.4305 - val_loss: 1.8469 - val_accuracy: 0.4245\n",
            "Epoch 59/100\n",
            "14/14 [==============================] - 6s 428ms/step - loss: 1.6357 - accuracy: 0.4333 - val_loss: 1.6755 - val_accuracy: 0.4635\n",
            "Epoch 60/100\n",
            "14/14 [==============================] - 6s 431ms/step - loss: 1.6075 - accuracy: 0.4540 - val_loss: 1.9667 - val_accuracy: 0.3568\n",
            "Epoch 61/100\n",
            "14/14 [==============================] - 6s 431ms/step - loss: 1.7552 - accuracy: 0.4030 - val_loss: 1.5944 - val_accuracy: 0.4948\n",
            "Epoch 62/100\n",
            "14/14 [==============================] - 6s 432ms/step - loss: 1.6619 - accuracy: 0.4473 - val_loss: 1.6478 - val_accuracy: 0.4609\n",
            "Epoch 63/100\n",
            "14/14 [==============================] - 6s 435ms/step - loss: 1.5648 - accuracy: 0.4725 - val_loss: 1.6574 - val_accuracy: 0.4896\n",
            "Epoch 64/100\n",
            "14/14 [==============================] - 6s 450ms/step - loss: 1.6287 - accuracy: 0.4518 - val_loss: 1.7797 - val_accuracy: 0.4349\n",
            "Epoch 65/100\n",
            "14/14 [==============================] - 6s 454ms/step - loss: 1.6682 - accuracy: 0.4417 - val_loss: 1.6561 - val_accuracy: 0.4688\n",
            "Epoch 66/100\n",
            "14/14 [==============================] - 6s 430ms/step - loss: 1.5455 - accuracy: 0.4731 - val_loss: 1.6180 - val_accuracy: 0.4896\n",
            "Epoch 67/100\n",
            "14/14 [==============================] - 6s 431ms/step - loss: 1.5292 - accuracy: 0.4832 - val_loss: 1.6710 - val_accuracy: 0.4818\n",
            "Epoch 68/100\n",
            "14/14 [==============================] - 6s 434ms/step - loss: 1.5541 - accuracy: 0.4686 - val_loss: 1.6696 - val_accuracy: 0.4557\n",
            "Epoch 69/100\n",
            "14/14 [==============================] - 6s 436ms/step - loss: 1.5380 - accuracy: 0.4680 - val_loss: 1.5922 - val_accuracy: 0.4974\n",
            "Epoch 70/100\n",
            "14/14 [==============================] - 6s 433ms/step - loss: 1.5286 - accuracy: 0.4837 - val_loss: 1.6017 - val_accuracy: 0.4818\n",
            "Epoch 71/100\n",
            "14/14 [==============================] - 6s 433ms/step - loss: 1.4831 - accuracy: 0.4832 - val_loss: 1.6858 - val_accuracy: 0.4557\n",
            "Epoch 72/100\n",
            "14/14 [==============================] - 6s 438ms/step - loss: 1.5091 - accuracy: 0.4832 - val_loss: 1.6356 - val_accuracy: 0.4583\n",
            "Epoch 73/100\n",
            "14/14 [==============================] - 6s 442ms/step - loss: 1.4675 - accuracy: 0.5028 - val_loss: 1.5842 - val_accuracy: 0.5078\n",
            "Epoch 74/100\n",
            "14/14 [==============================] - 6s 440ms/step - loss: 1.4668 - accuracy: 0.5101 - val_loss: 1.7809 - val_accuracy: 0.4297\n",
            "Epoch 75/100\n",
            "14/14 [==============================] - 6s 436ms/step - loss: 1.5152 - accuracy: 0.4776 - val_loss: 1.5934 - val_accuracy: 0.4948\n",
            "Epoch 76/100\n",
            "14/14 [==============================] - 6s 437ms/step - loss: 1.5002 - accuracy: 0.4961 - val_loss: 1.5535 - val_accuracy: 0.5260\n",
            "Epoch 77/100\n",
            "14/14 [==============================] - 6s 443ms/step - loss: 1.4959 - accuracy: 0.4994 - val_loss: 1.5923 - val_accuracy: 0.5000\n",
            "Epoch 78/100\n",
            "14/14 [==============================] - 6s 441ms/step - loss: 1.4319 - accuracy: 0.5213 - val_loss: 1.5853 - val_accuracy: 0.5078\n",
            "Epoch 79/100\n",
            "14/14 [==============================] - 6s 444ms/step - loss: 1.4190 - accuracy: 0.5235 - val_loss: 1.5494 - val_accuracy: 0.5052\n",
            "Epoch 80/100\n",
            "14/14 [==============================] - 6s 445ms/step - loss: 1.4046 - accuracy: 0.5241 - val_loss: 1.5992 - val_accuracy: 0.4870\n",
            "Epoch 81/100\n",
            "14/14 [==============================] - 6s 439ms/step - loss: 1.4070 - accuracy: 0.5179 - val_loss: 1.6759 - val_accuracy: 0.4635\n",
            "Epoch 82/100\n",
            "14/14 [==============================] - 6s 437ms/step - loss: 1.4417 - accuracy: 0.5095 - val_loss: 1.5118 - val_accuracy: 0.5156\n",
            "Epoch 83/100\n",
            "14/14 [==============================] - 6s 443ms/step - loss: 1.3835 - accuracy: 0.5213 - val_loss: 1.7509 - val_accuracy: 0.4297\n",
            "Epoch 84/100\n",
            "14/14 [==============================] - 6s 440ms/step - loss: 1.4222 - accuracy: 0.5073 - val_loss: 1.6538 - val_accuracy: 0.4557\n",
            "Epoch 85/100\n",
            "14/14 [==============================] - 6s 441ms/step - loss: 1.4661 - accuracy: 0.5084 - val_loss: 1.5124 - val_accuracy: 0.4896\n",
            "Epoch 86/100\n",
            "14/14 [==============================] - 6s 438ms/step - loss: 1.4279 - accuracy: 0.5084 - val_loss: 1.4968 - val_accuracy: 0.5052\n",
            "Epoch 87/100\n",
            "14/14 [==============================] - 6s 441ms/step - loss: 1.4705 - accuracy: 0.4910 - val_loss: 1.9255 - val_accuracy: 0.3828\n",
            "Epoch 88/100\n",
            "14/14 [==============================] - 6s 436ms/step - loss: 1.6425 - accuracy: 0.4316 - val_loss: 1.5224 - val_accuracy: 0.5260\n",
            "Epoch 89/100\n",
            "14/14 [==============================] - 6s 438ms/step - loss: 1.4238 - accuracy: 0.5173 - val_loss: 1.5056 - val_accuracy: 0.5182\n",
            "Epoch 90/100\n",
            "14/14 [==============================] - 6s 436ms/step - loss: 1.3392 - accuracy: 0.5387 - val_loss: 1.5470 - val_accuracy: 0.5156\n",
            "Epoch 91/100\n",
            "14/14 [==============================] - 6s 443ms/step - loss: 1.3530 - accuracy: 0.5291 - val_loss: 1.5622 - val_accuracy: 0.5078\n",
            "Epoch 92/100\n",
            "14/14 [==============================] - 6s 440ms/step - loss: 1.3664 - accuracy: 0.5263 - val_loss: 1.5533 - val_accuracy: 0.4609\n",
            "Epoch 93/100\n",
            "14/14 [==============================] - 6s 439ms/step - loss: 1.3904 - accuracy: 0.5432 - val_loss: 1.5768 - val_accuracy: 0.5078\n",
            "Epoch 94/100\n",
            "14/14 [==============================] - 6s 434ms/step - loss: 1.2969 - accuracy: 0.5555 - val_loss: 1.4809 - val_accuracy: 0.5234\n",
            "Epoch 95/100\n",
            "14/14 [==============================] - 6s 434ms/step - loss: 1.3432 - accuracy: 0.5398 - val_loss: 1.4550 - val_accuracy: 0.5339\n",
            "Epoch 96/100\n",
            "14/14 [==============================] - 6s 436ms/step - loss: 1.3201 - accuracy: 0.5376 - val_loss: 1.6287 - val_accuracy: 0.4714\n",
            "Epoch 97/100\n",
            "14/14 [==============================] - 6s 437ms/step - loss: 1.2859 - accuracy: 0.5533 - val_loss: 1.5273 - val_accuracy: 0.4740\n",
            "Epoch 98/100\n",
            "14/14 [==============================] - 6s 444ms/step - loss: 1.2662 - accuracy: 0.5519 - val_loss: 1.5342 - val_accuracy: 0.5339\n",
            "Epoch 99/100\n",
            "14/14 [==============================] - 6s 440ms/step - loss: 1.2640 - accuracy: 0.5673 - val_loss: 1.5261 - val_accuracy: 0.5156\n",
            "Epoch 100/100\n",
            "14/14 [==============================] - 6s 433ms/step - loss: 1.2727 - accuracy: 0.5605 - val_loss: 1.5860 - val_accuracy: 0.4948\n"
          ],
          "name": "stdout"
        }
      ]
    },
    {
      "cell_type": "code",
      "metadata": {
        "colab": {
          "base_uri": "https://localhost:8080/",
          "height": 299
        },
        "id": "ppro_Nnlaejx",
        "outputId": "dcb5c85a-c39b-4aae-ceda-5d678b7b12da"
      },
      "source": [
        "# afficher le graphe de loss et accuracy\n",
        "N = np.arange(0, epochs)\n",
        "plt.style.use(\"ggplot\")\n",
        "plt.figure()\n",
        "N = np.arange(0,100)\n",
        "plt.plot(N, H.history[\"loss\"], label=\"train_loss\")\n",
        "plt.plot(N, H.history[\"val_loss\"], label=\"val_loss\")\n",
        "plt.plot(N, H.history[\"accuracy\"], label=\"train_acc\")\n",
        "plt.plot(N, H.history[\"val_accuracy\"], label=\"val_acc\")\n",
        "plt.plot(np.argmin(H.history[\"val_loss\"]), np.min(H.history[\"val_loss\"]),marker=\"x\",color=\"r\", label=\"meilleur modèle\")\n",
        "plt.title(\"Training Loss and Accuracy (Simple NN)\")\n",
        "plt.xlabel(\"Epoch #\")\n",
        "plt.ylabel(\"Loss/Accuracy\")\n",
        "plt.legend()\n",
        "plt.savefig(\"Loss_Acc_mnist\")\n"
      ],
      "execution_count": 21,
      "outputs": [
        {
          "output_type": "display_data",
          "data": {
            "image/png": "[encoded data removed]",
            "text/plain": [
              "<Figure size 432x288 with 1 Axes>"
            ]
          },
          "metadata": {
            "tags": []
          }
        }
      ]
    },
    {
      "cell_type": "markdown",
      "metadata": {
        "id": "5ftG3-6siqNz"
      },
      "source": [
        "#Dégradation du taux d'apprentissage"
      ]
    },
    {
      "cell_type": "code",
      "metadata": {
        "colab": {
          "base_uri": "https://localhost:8080/"
        },
        "id": "V6rau8qlfLYO",
        "outputId": "c2b0b0c0-e908-4b36-b839-c96bd5af2201"
      },
      "source": [
        "model = build_model()\n",
        "def lr_decay(epoch, current_learning_rate):\n",
        "    if epoch ==65:\n",
        "       return current_learning_rate * 0.2\n",
        "    else:\n",
        "       return current_learning_rate\n",
        "\n",
        "# learning schedule callback\n",
        "lrate = LearningRateScheduler(lr_decay,verbose=1)\n",
        "callbacks_list = [lrate]\n",
        "\n",
        "\n",
        "H=model.fit(trainGen,validation_data= testGen ,callbacks=callbacks_list, verbose=1,batch_size=batch_size,epochs=epochs)"
      ],
      "execution_count": 22,
      "outputs": [
        {
          "output_type": "stream",
          "text": [
            "\n",
            "Epoch 00001: LearningRateScheduler reducing learning rate to 0.0010000000474974513.\n",
            "Epoch 1/100\n",
            "15/15 [==============================] - 7s 457ms/step - loss: 2.9465 - accuracy: 0.1025 - val_loss: 2.9343 - val_accuracy: 0.1295\n",
            "\n",
            "Epoch 00002: LearningRateScheduler reducing learning rate to 0.0010000000474974513.\n",
            "Epoch 2/100\n",
            "15/15 [==============================] - 6s 414ms/step - loss: 2.9054 - accuracy: 0.1109 - val_loss: 2.9252 - val_accuracy: 0.1295\n",
            "\n",
            "Epoch 00003: LearningRateScheduler reducing learning rate to 0.0010000000474974513.\n",
            "Epoch 3/100\n",
            "15/15 [==============================] - 6s 413ms/step - loss: 2.8949 - accuracy: 0.1036 - val_loss: 2.9287 - val_accuracy: 0.1339\n",
            "\n",
            "Epoch 00004: LearningRateScheduler reducing learning rate to 0.0010000000474974513.\n",
            "Epoch 4/100\n",
            "15/15 [==============================] - 6s 408ms/step - loss: 2.8817 - accuracy: 0.1020 - val_loss: 2.9318 - val_accuracy: 0.0558\n",
            "\n",
            "Epoch 00005: LearningRateScheduler reducing learning rate to 0.0010000000474974513.\n",
            "Epoch 5/100\n",
            "15/15 [==============================] - 6s 416ms/step - loss: 2.8557 - accuracy: 0.1114 - val_loss: 2.8985 - val_accuracy: 0.1406\n",
            "\n",
            "Epoch 00006: LearningRateScheduler reducing learning rate to 0.0010000000474974513.\n",
            "Epoch 6/100\n",
            "15/15 [==============================] - 6s 409ms/step - loss: 2.7855 - accuracy: 0.1428 - val_loss: 2.7662 - val_accuracy: 0.1518\n",
            "\n",
            "Epoch 00007: LearningRateScheduler reducing learning rate to 0.0010000000474974513.\n",
            "Epoch 7/100\n",
            "15/15 [==============================] - 6s 416ms/step - loss: 2.7269 - accuracy: 0.1538 - val_loss: 2.7577 - val_accuracy: 0.1473\n",
            "\n",
            "Epoch 00008: LearningRateScheduler reducing learning rate to 0.0010000000474974513.\n",
            "Epoch 8/100\n",
            "15/15 [==============================] - 6s 409ms/step - loss: 2.6944 - accuracy: 0.1710 - val_loss: 2.6466 - val_accuracy: 0.1942\n",
            "\n",
            "Epoch 00009: LearningRateScheduler reducing learning rate to 0.0010000000474974513.\n",
            "Epoch 9/100\n",
            "15/15 [==============================] - 6s 409ms/step - loss: 2.6016 - accuracy: 0.1993 - val_loss: 2.5458 - val_accuracy: 0.1897\n",
            "\n",
            "Epoch 00010: LearningRateScheduler reducing learning rate to 0.0010000000474974513.\n",
            "Epoch 10/100\n",
            "15/15 [==============================] - 6s 409ms/step - loss: 2.5384 - accuracy: 0.2055 - val_loss: 2.5002 - val_accuracy: 0.1964\n",
            "\n",
            "Epoch 00011: LearningRateScheduler reducing learning rate to 0.0010000000474974513.\n",
            "Epoch 11/100\n",
            "15/15 [==============================] - 6s 414ms/step - loss: 2.5545 - accuracy: 0.1940 - val_loss: 2.4566 - val_accuracy: 0.2054\n",
            "\n",
            "Epoch 00012: LearningRateScheduler reducing learning rate to 0.0010000000474974513.\n",
            "Epoch 12/100\n",
            "15/15 [==============================] - 6s 413ms/step - loss: 2.5198 - accuracy: 0.2035 - val_loss: 2.5134 - val_accuracy: 0.2210\n",
            "\n",
            "Epoch 00013: LearningRateScheduler reducing learning rate to 0.0010000000474974513.\n",
            "Epoch 13/100\n",
            "15/15 [==============================] - 6s 413ms/step - loss: 2.4636 - accuracy: 0.2218 - val_loss: 2.4456 - val_accuracy: 0.2076\n",
            "\n",
            "Epoch 00014: LearningRateScheduler reducing learning rate to 0.0010000000474974513.\n",
            "Epoch 14/100\n",
            "15/15 [==============================] - 6s 409ms/step - loss: 2.4741 - accuracy: 0.2040 - val_loss: 2.3913 - val_accuracy: 0.2567\n",
            "\n",
            "Epoch 00015: LearningRateScheduler reducing learning rate to 0.0010000000474974513.\n",
            "Epoch 15/100\n",
            "15/15 [==============================] - 6s 412ms/step - loss: 2.3766 - accuracy: 0.2479 - val_loss: 2.2578 - val_accuracy: 0.2723\n",
            "\n",
            "Epoch 00016: LearningRateScheduler reducing learning rate to 0.0010000000474974513.\n",
            "Epoch 16/100\n",
            "15/15 [==============================] - 6s 418ms/step - loss: 2.2998 - accuracy: 0.2537 - val_loss: 2.2473 - val_accuracy: 0.2969\n",
            "\n",
            "Epoch 00017: LearningRateScheduler reducing learning rate to 0.0010000000474974513.\n",
            "Epoch 17/100\n",
            "15/15 [==============================] - 6s 410ms/step - loss: 2.2564 - accuracy: 0.2756 - val_loss: 2.1057 - val_accuracy: 0.2969\n",
            "\n",
            "Epoch 00018: LearningRateScheduler reducing learning rate to 0.0010000000474974513.\n",
            "Epoch 18/100\n",
            "15/15 [==============================] - 6s 411ms/step - loss: 2.2195 - accuracy: 0.2871 - val_loss: 2.2140 - val_accuracy: 0.2232\n",
            "\n",
            "Epoch 00019: LearningRateScheduler reducing learning rate to 0.0010000000474974513.\n",
            "Epoch 19/100\n",
            "15/15 [==============================] - 6s 414ms/step - loss: 2.1693 - accuracy: 0.2939 - val_loss: 2.0624 - val_accuracy: 0.3214\n",
            "\n",
            "Epoch 00020: LearningRateScheduler reducing learning rate to 0.0010000000474974513.\n",
            "Epoch 20/100\n",
            "15/15 [==============================] - 6s 416ms/step - loss: 2.1301 - accuracy: 0.3070 - val_loss: 2.0664 - val_accuracy: 0.3125\n",
            "\n",
            "Epoch 00021: LearningRateScheduler reducing learning rate to 0.0010000000474974513.\n",
            "Epoch 21/100\n",
            "15/15 [==============================] - 6s 412ms/step - loss: 2.0713 - accuracy: 0.3128 - val_loss: 2.1114 - val_accuracy: 0.2879\n",
            "\n",
            "Epoch 00022: LearningRateScheduler reducing learning rate to 0.0010000000474974513.\n",
            "Epoch 22/100\n",
            "15/15 [==============================] - 6s 411ms/step - loss: 2.0725 - accuracy: 0.3086 - val_loss: 1.9647 - val_accuracy: 0.3438\n",
            "\n",
            "Epoch 00023: LearningRateScheduler reducing learning rate to 0.0010000000474974513.\n",
            "Epoch 23/100\n",
            "15/15 [==============================] - 6s 406ms/step - loss: 1.9840 - accuracy: 0.3342 - val_loss: 1.9310 - val_accuracy: 0.3638\n",
            "\n",
            "Epoch 00024: LearningRateScheduler reducing learning rate to 0.0010000000474974513.\n",
            "Epoch 24/100\n",
            "15/15 [==============================] - 6s 407ms/step - loss: 1.9985 - accuracy: 0.3624 - val_loss: 1.9768 - val_accuracy: 0.3750\n",
            "\n",
            "Epoch 00025: LearningRateScheduler reducing learning rate to 0.0010000000474974513.\n",
            "Epoch 25/100\n",
            "15/15 [==============================] - 6s 413ms/step - loss: 1.9897 - accuracy: 0.3499 - val_loss: 1.9130 - val_accuracy: 0.3750\n",
            "\n",
            "Epoch 00026: LearningRateScheduler reducing learning rate to 0.0010000000474974513.\n",
            "Epoch 26/100\n",
            "15/15 [==============================] - 6s 410ms/step - loss: 1.9121 - accuracy: 0.3588 - val_loss: 1.9080 - val_accuracy: 0.3884\n",
            "\n",
            "Epoch 00027: LearningRateScheduler reducing learning rate to 0.0010000000474974513.\n",
            "Epoch 27/100\n",
            "15/15 [==============================] - 6s 406ms/step - loss: 1.9818 - accuracy: 0.3353 - val_loss: 1.9511 - val_accuracy: 0.3549\n",
            "\n",
            "Epoch 00028: LearningRateScheduler reducing learning rate to 0.0010000000474974513.\n",
            "Epoch 28/100\n",
            "15/15 [==============================] - 6s 408ms/step - loss: 1.9303 - accuracy: 0.3556 - val_loss: 1.9376 - val_accuracy: 0.3616\n",
            "\n",
            "Epoch 00029: LearningRateScheduler reducing learning rate to 0.0010000000474974513.\n",
            "Epoch 29/100\n",
            "15/15 [==============================] - 6s 411ms/step - loss: 1.8720 - accuracy: 0.3661 - val_loss: 1.8571 - val_accuracy: 0.3728\n",
            "\n",
            "Epoch 00030: LearningRateScheduler reducing learning rate to 0.0010000000474974513.\n",
            "Epoch 30/100\n",
            "15/15 [==============================] - 6s 423ms/step - loss: 1.8866 - accuracy: 0.3771 - val_loss: 1.8517 - val_accuracy: 0.3683\n",
            "\n",
            "Epoch 00031: LearningRateScheduler reducing learning rate to 0.0010000000474974513.\n",
            "Epoch 31/100\n",
            "15/15 [==============================] - 6s 432ms/step - loss: 1.8621 - accuracy: 0.3598 - val_loss: 1.9741 - val_accuracy: 0.3549\n",
            "\n",
            "Epoch 00032: LearningRateScheduler reducing learning rate to 0.0010000000474974513.\n",
            "Epoch 32/100\n",
            "15/15 [==============================] - 6s 416ms/step - loss: 1.9252 - accuracy: 0.3583 - val_loss: 1.8591 - val_accuracy: 0.3929\n",
            "\n",
            "Epoch 00033: LearningRateScheduler reducing learning rate to 0.0010000000474974513.\n",
            "Epoch 33/100\n",
            "15/15 [==============================] - 6s 411ms/step - loss: 1.8204 - accuracy: 0.3834 - val_loss: 1.8867 - val_accuracy: 0.3996\n",
            "\n",
            "Epoch 00034: LearningRateScheduler reducing learning rate to 0.0010000000474974513.\n",
            "Epoch 34/100\n",
            "15/15 [==============================] - 6s 404ms/step - loss: 1.7985 - accuracy: 0.3923 - val_loss: 1.8658 - val_accuracy: 0.3839\n",
            "\n",
            "Epoch 00035: LearningRateScheduler reducing learning rate to 0.0010000000474974513.\n",
            "Epoch 35/100\n",
            "15/15 [==============================] - 6s 414ms/step - loss: 1.7838 - accuracy: 0.4168 - val_loss: 1.9206 - val_accuracy: 0.3884\n",
            "\n",
            "Epoch 00036: LearningRateScheduler reducing learning rate to 0.0010000000474974513.\n",
            "Epoch 36/100\n",
            "15/15 [==============================] - 6s 424ms/step - loss: 1.7958 - accuracy: 0.3828 - val_loss: 1.9132 - val_accuracy: 0.3616\n",
            "\n",
            "Epoch 00037: LearningRateScheduler reducing learning rate to 0.0010000000474974513.\n",
            "Epoch 37/100\n",
            "15/15 [==============================] - 6s 410ms/step - loss: 1.7702 - accuracy: 0.3928 - val_loss: 1.9293 - val_accuracy: 0.3996\n",
            "\n",
            "Epoch 00038: LearningRateScheduler reducing learning rate to 0.0010000000474974513.\n",
            "Epoch 38/100\n",
            "15/15 [==============================] - 6s 412ms/step - loss: 1.7798 - accuracy: 0.3959 - val_loss: 1.9867 - val_accuracy: 0.3549\n",
            "\n",
            "Epoch 00039: LearningRateScheduler reducing learning rate to 0.0010000000474974513.\n",
            "Epoch 39/100\n",
            "15/15 [==============================] - 6s 417ms/step - loss: 1.7648 - accuracy: 0.4147 - val_loss: 1.7960 - val_accuracy: 0.4353\n",
            "\n",
            "Epoch 00040: LearningRateScheduler reducing learning rate to 0.0010000000474974513.\n",
            "Epoch 40/100\n",
            "15/15 [==============================] - 6s 412ms/step - loss: 1.6928 - accuracy: 0.4221 - val_loss: 1.8702 - val_accuracy: 0.3549\n",
            "\n",
            "Epoch 00041: LearningRateScheduler reducing learning rate to 0.0010000000474974513.\n",
            "Epoch 41/100\n",
            "15/15 [==============================] - 6s 418ms/step - loss: 1.7859 - accuracy: 0.4064 - val_loss: 1.8392 - val_accuracy: 0.4085\n",
            "\n",
            "Epoch 00042: LearningRateScheduler reducing learning rate to 0.0010000000474974513.\n",
            "Epoch 42/100\n",
            "15/15 [==============================] - 6s 413ms/step - loss: 1.7579 - accuracy: 0.4043 - val_loss: 1.8476 - val_accuracy: 0.3906\n",
            "\n",
            "Epoch 00043: LearningRateScheduler reducing learning rate to 0.0010000000474974513.\n",
            "Epoch 43/100\n",
            "15/15 [==============================] - 6s 414ms/step - loss: 1.6956 - accuracy: 0.4226 - val_loss: 1.7340 - val_accuracy: 0.4263\n",
            "\n",
            "Epoch 00044: LearningRateScheduler reducing learning rate to 0.0010000000474974513.\n",
            "Epoch 44/100\n",
            "15/15 [==============================] - 6s 408ms/step - loss: 1.7085 - accuracy: 0.4090 - val_loss: 1.7904 - val_accuracy: 0.4263\n",
            "\n",
            "Epoch 00045: LearningRateScheduler reducing learning rate to 0.0010000000474974513.\n",
            "Epoch 45/100\n",
            "15/15 [==============================] - 6s 422ms/step - loss: 1.7265 - accuracy: 0.4184 - val_loss: 1.9052 - val_accuracy: 0.4040\n",
            "\n",
            "Epoch 00046: LearningRateScheduler reducing learning rate to 0.0010000000474974513.\n",
            "Epoch 46/100\n",
            "15/15 [==============================] - 7s 436ms/step - loss: 1.6995 - accuracy: 0.4273 - val_loss: 1.8123 - val_accuracy: 0.4241\n",
            "\n",
            "Epoch 00047: LearningRateScheduler reducing learning rate to 0.0010000000474974513.\n",
            "Epoch 47/100\n",
            "15/15 [==============================] - 6s 419ms/step - loss: 1.6630 - accuracy: 0.4310 - val_loss: 1.9089 - val_accuracy: 0.3839\n",
            "\n",
            "Epoch 00048: LearningRateScheduler reducing learning rate to 0.0010000000474974513.\n",
            "Epoch 48/100\n",
            "15/15 [==============================] - 6s 412ms/step - loss: 1.6715 - accuracy: 0.4252 - val_loss: 1.7471 - val_accuracy: 0.4219\n",
            "\n",
            "Epoch 00049: LearningRateScheduler reducing learning rate to 0.0010000000474974513.\n",
            "Epoch 49/100\n",
            "15/15 [==============================] - 6s 411ms/step - loss: 1.6432 - accuracy: 0.4362 - val_loss: 1.7722 - val_accuracy: 0.4152\n",
            "\n",
            "Epoch 00050: LearningRateScheduler reducing learning rate to 0.0010000000474974513.\n",
            "Epoch 50/100\n",
            "15/15 [==============================] - 6s 408ms/step - loss: 1.6012 - accuracy: 0.4477 - val_loss: 1.8988 - val_accuracy: 0.3728\n",
            "\n",
            "Epoch 00051: LearningRateScheduler reducing learning rate to 0.0010000000474974513.\n",
            "Epoch 51/100\n",
            "15/15 [==============================] - 6s 413ms/step - loss: 1.6595 - accuracy: 0.4325 - val_loss: 1.7946 - val_accuracy: 0.4107\n",
            "\n",
            "Epoch 00052: LearningRateScheduler reducing learning rate to 0.0010000000474974513.\n",
            "Epoch 52/100\n",
            "15/15 [==============================] - 6s 414ms/step - loss: 1.6266 - accuracy: 0.4493 - val_loss: 1.8094 - val_accuracy: 0.4107\n",
            "\n",
            "Epoch 00053: LearningRateScheduler reducing learning rate to 0.0010000000474974513.\n",
            "Epoch 53/100\n",
            "15/15 [==============================] - 6s 417ms/step - loss: 1.6474 - accuracy: 0.4378 - val_loss: 1.7697 - val_accuracy: 0.4196\n",
            "\n",
            "Epoch 00054: LearningRateScheduler reducing learning rate to 0.0010000000474974513.\n",
            "Epoch 54/100\n",
            "15/15 [==============================] - 6s 414ms/step - loss: 1.6143 - accuracy: 0.4535 - val_loss: 1.7455 - val_accuracy: 0.4487\n",
            "\n",
            "Epoch 00055: LearningRateScheduler reducing learning rate to 0.0010000000474974513.\n",
            "Epoch 55/100\n",
            "15/15 [==============================] - 6s 414ms/step - loss: 1.6282 - accuracy: 0.4451 - val_loss: 1.7201 - val_accuracy: 0.4241\n",
            "\n",
            "Epoch 00056: LearningRateScheduler reducing learning rate to 0.0010000000474974513.\n",
            "Epoch 56/100\n",
            "15/15 [==============================] - 6s 407ms/step - loss: 1.6092 - accuracy: 0.4482 - val_loss: 1.8358 - val_accuracy: 0.4263\n",
            "\n",
            "Epoch 00057: LearningRateScheduler reducing learning rate to 0.0010000000474974513.\n",
            "Epoch 57/100\n",
            "15/15 [==============================] - 6s 407ms/step - loss: 1.6460 - accuracy: 0.4451 - val_loss: 1.8565 - val_accuracy: 0.3973\n",
            "\n",
            "Epoch 00058: LearningRateScheduler reducing learning rate to 0.0010000000474974513.\n",
            "Epoch 58/100\n",
            "15/15 [==============================] - 6s 418ms/step - loss: 1.6410 - accuracy: 0.4592 - val_loss: 1.7122 - val_accuracy: 0.4576\n",
            "\n",
            "Epoch 00059: LearningRateScheduler reducing learning rate to 0.0010000000474974513.\n",
            "Epoch 59/100\n",
            "15/15 [==============================] - 6s 407ms/step - loss: 1.5774 - accuracy: 0.4597 - val_loss: 1.6996 - val_accuracy: 0.4442\n",
            "\n",
            "Epoch 00060: LearningRateScheduler reducing learning rate to 0.0010000000474974513.\n",
            "Epoch 60/100\n",
            "15/15 [==============================] - 6s 410ms/step - loss: 1.5988 - accuracy: 0.4477 - val_loss: 1.7676 - val_accuracy: 0.4487\n",
            "\n",
            "Epoch 00061: LearningRateScheduler reducing learning rate to 0.0010000000474974513.\n",
            "Epoch 61/100\n",
            "15/15 [==============================] - 6s 407ms/step - loss: 1.5693 - accuracy: 0.4671 - val_loss: 1.7186 - val_accuracy: 0.4152\n",
            "\n",
            "Epoch 00062: LearningRateScheduler reducing learning rate to 0.0010000000474974513.\n",
            "Epoch 62/100\n",
            "15/15 [==============================] - 6s 405ms/step - loss: 1.5577 - accuracy: 0.4759 - val_loss: 1.8746 - val_accuracy: 0.3772\n",
            "\n",
            "Epoch 00063: LearningRateScheduler reducing learning rate to 0.0010000000474974513.\n",
            "Epoch 63/100\n",
            "15/15 [==============================] - 6s 412ms/step - loss: 1.5710 - accuracy: 0.4681 - val_loss: 1.7984 - val_accuracy: 0.4576\n",
            "\n",
            "Epoch 00064: LearningRateScheduler reducing learning rate to 0.0010000000474974513.\n",
            "Epoch 64/100\n",
            "15/15 [==============================] - 6s 403ms/step - loss: 1.5205 - accuracy: 0.4906 - val_loss: 1.7211 - val_accuracy: 0.4487\n",
            "\n",
            "Epoch 00065: LearningRateScheduler reducing learning rate to 0.0010000000474974513.\n",
            "Epoch 65/100\n",
            "15/15 [==============================] - 6s 408ms/step - loss: 1.5006 - accuracy: 0.4885 - val_loss: 1.7067 - val_accuracy: 0.4353\n",
            "\n",
            "Epoch 00066: LearningRateScheduler reducing learning rate to 0.00020000000949949026.\n",
            "Epoch 66/100\n",
            "15/15 [==============================] - 6s 420ms/step - loss: 1.4445 - accuracy: 0.5031 - val_loss: 1.6877 - val_accuracy: 0.4241\n",
            "\n",
            "Epoch 00067: LearningRateScheduler reducing learning rate to 0.00020000000949949026.\n",
            "Epoch 67/100\n",
            "15/15 [==============================] - 6s 414ms/step - loss: 1.3863 - accuracy: 0.5303 - val_loss: 1.7055 - val_accuracy: 0.4688\n",
            "\n",
            "Epoch 00068: LearningRateScheduler reducing learning rate to 0.00020000000949949026.\n",
            "Epoch 68/100\n",
            "15/15 [==============================] - 6s 417ms/step - loss: 1.3686 - accuracy: 0.5324 - val_loss: 1.7282 - val_accuracy: 0.4509\n",
            "\n",
            "Epoch 00069: LearningRateScheduler reducing learning rate to 0.00020000000949949026.\n",
            "Epoch 69/100\n",
            "15/15 [==============================] - 6s 408ms/step - loss: 1.3455 - accuracy: 0.5418 - val_loss: 1.7185 - val_accuracy: 0.4554\n",
            "\n",
            "Epoch 00070: LearningRateScheduler reducing learning rate to 0.00020000000949949026.\n",
            "Epoch 70/100\n",
            "15/15 [==============================] - 6s 415ms/step - loss: 1.3267 - accuracy: 0.5486 - val_loss: 1.7296 - val_accuracy: 0.4665\n",
            "\n",
            "Epoch 00071: LearningRateScheduler reducing learning rate to 0.00020000000949949026.\n",
            "Epoch 71/100\n",
            "15/15 [==============================] - 6s 411ms/step - loss: 1.3382 - accuracy: 0.5387 - val_loss: 1.7632 - val_accuracy: 0.4420\n",
            "\n",
            "Epoch 00072: LearningRateScheduler reducing learning rate to 0.00020000000949949026.\n",
            "Epoch 72/100\n",
            "15/15 [==============================] - 6s 412ms/step - loss: 1.3255 - accuracy: 0.5492 - val_loss: 1.7368 - val_accuracy: 0.4665\n",
            "\n",
            "Epoch 00073: LearningRateScheduler reducing learning rate to 0.00020000000949949026.\n",
            "Epoch 73/100\n",
            "15/15 [==============================] - 6s 414ms/step - loss: 1.3061 - accuracy: 0.5518 - val_loss: 1.7299 - val_accuracy: 0.4509\n",
            "\n",
            "Epoch 00074: LearningRateScheduler reducing learning rate to 0.00020000000949949026.\n",
            "Epoch 74/100\n",
            "15/15 [==============================] - 6s 413ms/step - loss: 1.3255 - accuracy: 0.5424 - val_loss: 1.7370 - val_accuracy: 0.4621\n",
            "\n",
            "Epoch 00075: LearningRateScheduler reducing learning rate to 0.00020000000949949026.\n",
            "Epoch 75/100\n",
            "15/15 [==============================] - 6s 419ms/step - loss: 1.3079 - accuracy: 0.5445 - val_loss: 1.7655 - val_accuracy: 0.4554\n",
            "\n",
            "Epoch 00076: LearningRateScheduler reducing learning rate to 0.00020000000949949026.\n",
            "Epoch 76/100\n",
            "15/15 [==============================] - 6s 419ms/step - loss: 1.3138 - accuracy: 0.5549 - val_loss: 1.7205 - val_accuracy: 0.4821\n",
            "\n",
            "Epoch 00077: LearningRateScheduler reducing learning rate to 0.00020000000949949026.\n",
            "Epoch 77/100\n",
            "15/15 [==============================] - 6s 416ms/step - loss: 1.2891 - accuracy: 0.5617 - val_loss: 1.7286 - val_accuracy: 0.4888\n",
            "\n",
            "Epoch 00078: LearningRateScheduler reducing learning rate to 0.00020000000949949026.\n",
            "Epoch 78/100\n",
            "15/15 [==============================] - 6s 415ms/step - loss: 1.3019 - accuracy: 0.5507 - val_loss: 1.6999 - val_accuracy: 0.4911\n",
            "\n",
            "Epoch 00079: LearningRateScheduler reducing learning rate to 0.00020000000949949026.\n",
            "Epoch 79/100\n",
            "15/15 [==============================] - 6s 415ms/step - loss: 1.3036 - accuracy: 0.5633 - val_loss: 1.7590 - val_accuracy: 0.4688\n",
            "\n",
            "Epoch 00080: LearningRateScheduler reducing learning rate to 0.00020000000949949026.\n",
            "Epoch 80/100\n",
            "15/15 [==============================] - 6s 415ms/step - loss: 1.3049 - accuracy: 0.5586 - val_loss: 1.7576 - val_accuracy: 0.4621\n",
            "\n",
            "Epoch 00081: LearningRateScheduler reducing learning rate to 0.00020000000949949026.\n",
            "Epoch 81/100\n",
            "15/15 [==============================] - 6s 412ms/step - loss: 1.3070 - accuracy: 0.5492 - val_loss: 1.7370 - val_accuracy: 0.4710\n",
            "\n",
            "Epoch 00082: LearningRateScheduler reducing learning rate to 0.00020000000949949026.\n",
            "Epoch 82/100\n",
            "15/15 [==============================] - 6s 413ms/step - loss: 1.2711 - accuracy: 0.5685 - val_loss: 1.7206 - val_accuracy: 0.4621\n",
            "\n",
            "Epoch 00083: LearningRateScheduler reducing learning rate to 0.00020000000949949026.\n",
            "Epoch 83/100\n",
            "15/15 [==============================] - 6s 409ms/step - loss: 1.2693 - accuracy: 0.5591 - val_loss: 1.7518 - val_accuracy: 0.4643\n",
            "\n",
            "Epoch 00084: LearningRateScheduler reducing learning rate to 0.00020000000949949026.\n",
            "Epoch 84/100\n",
            "15/15 [==============================] - 6s 415ms/step - loss: 1.2631 - accuracy: 0.5696 - val_loss: 1.7628 - val_accuracy: 0.4643\n",
            "\n",
            "Epoch 00085: LearningRateScheduler reducing learning rate to 0.00020000000949949026.\n",
            "Epoch 85/100\n",
            "15/15 [==============================] - 6s 414ms/step - loss: 1.2657 - accuracy: 0.5528 - val_loss: 1.6988 - val_accuracy: 0.4978\n",
            "\n",
            "Epoch 00086: LearningRateScheduler reducing learning rate to 0.00020000000949949026.\n",
            "Epoch 86/100\n",
            "15/15 [==============================] - 6s 405ms/step - loss: 1.2441 - accuracy: 0.5711 - val_loss: 1.7588 - val_accuracy: 0.4754\n",
            "\n",
            "Epoch 00087: LearningRateScheduler reducing learning rate to 0.00020000000949949026.\n",
            "Epoch 87/100\n",
            "15/15 [==============================] - 6s 409ms/step - loss: 1.2444 - accuracy: 0.5785 - val_loss: 1.7381 - val_accuracy: 0.4799\n",
            "\n",
            "Epoch 00088: LearningRateScheduler reducing learning rate to 0.00020000000949949026.\n",
            "Epoch 88/100\n",
            "15/15 [==============================] - 6s 407ms/step - loss: 1.2381 - accuracy: 0.5774 - val_loss: 1.7273 - val_accuracy: 0.4688\n",
            "\n",
            "Epoch 00089: LearningRateScheduler reducing learning rate to 0.00020000000949949026.\n",
            "Epoch 89/100\n",
            "15/15 [==============================] - 6s 416ms/step - loss: 1.2531 - accuracy: 0.5696 - val_loss: 1.7753 - val_accuracy: 0.4799\n",
            "\n",
            "Epoch 00090: LearningRateScheduler reducing learning rate to 0.00020000000949949026.\n",
            "Epoch 90/100\n",
            "15/15 [==============================] - 6s 416ms/step - loss: 1.2785 - accuracy: 0.5633 - val_loss: 1.7923 - val_accuracy: 0.4531\n",
            "\n",
            "Epoch 00091: LearningRateScheduler reducing learning rate to 0.00020000000949949026.\n",
            "Epoch 91/100\n",
            "15/15 [==============================] - 6s 432ms/step - loss: 1.3072 - accuracy: 0.5607 - val_loss: 1.7526 - val_accuracy: 0.4777\n",
            "\n",
            "Epoch 00092: LearningRateScheduler reducing learning rate to 0.00020000000949949026.\n",
            "Epoch 92/100\n",
            "15/15 [==============================] - 7s 441ms/step - loss: 1.2668 - accuracy: 0.5769 - val_loss: 1.7057 - val_accuracy: 0.4866\n",
            "\n",
            "Epoch 00093: LearningRateScheduler reducing learning rate to 0.00020000000949949026.\n",
            "Epoch 93/100\n",
            "15/15 [==============================] - 6s 410ms/step - loss: 1.2503 - accuracy: 0.5701 - val_loss: 1.7482 - val_accuracy: 0.4777\n",
            "\n",
            "Epoch 00094: LearningRateScheduler reducing learning rate to 0.00020000000949949026.\n",
            "Epoch 94/100\n",
            "15/15 [==============================] - 6s 411ms/step - loss: 1.2240 - accuracy: 0.5842 - val_loss: 1.7129 - val_accuracy: 0.4754\n",
            "\n",
            "Epoch 00095: LearningRateScheduler reducing learning rate to 0.00020000000949949026.\n",
            "Epoch 95/100\n",
            "15/15 [==============================] - 6s 413ms/step - loss: 1.2111 - accuracy: 0.5847 - val_loss: 1.7537 - val_accuracy: 0.4710\n",
            "\n",
            "Epoch 00096: LearningRateScheduler reducing learning rate to 0.00020000000949949026.\n",
            "Epoch 96/100\n",
            "15/15 [==============================] - 6s 415ms/step - loss: 1.2470 - accuracy: 0.5643 - val_loss: 1.7429 - val_accuracy: 0.4643\n",
            "\n",
            "Epoch 00097: LearningRateScheduler reducing learning rate to 0.00020000000949949026.\n",
            "Epoch 97/100\n",
            "15/15 [==============================] - 6s 412ms/step - loss: 1.2191 - accuracy: 0.5863 - val_loss: 1.7082 - val_accuracy: 0.4866\n",
            "\n",
            "Epoch 00098: LearningRateScheduler reducing learning rate to 0.00020000000949949026.\n",
            "Epoch 98/100\n",
            "15/15 [==============================] - 6s 412ms/step - loss: 1.2046 - accuracy: 0.5868 - val_loss: 1.7467 - val_accuracy: 0.4821\n",
            "\n",
            "Epoch 00099: LearningRateScheduler reducing learning rate to 0.00020000000949949026.\n",
            "Epoch 99/100\n",
            "15/15 [==============================] - 6s 408ms/step - loss: 1.1959 - accuracy: 0.5941 - val_loss: 1.7427 - val_accuracy: 0.4799\n",
            "\n",
            "Epoch 00100: LearningRateScheduler reducing learning rate to 0.00020000000949949026.\n",
            "Epoch 100/100\n",
            "15/15 [==============================] - 6s 415ms/step - loss: 1.2220 - accuracy: 0.5842 - val_loss: 1.7999 - val_accuracy: 0.4799\n"
          ],
          "name": "stdout"
        }
      ]
    },
    {
      "cell_type": "code",
      "metadata": {
        "colab": {
          "base_uri": "https://localhost:8080/",
          "height": 299
        },
        "id": "oDmkmUk0G7y4",
        "outputId": "bc458b6a-e373-4f27-eeb2-0dacd893cd20"
      },
      "source": [
        "# afficher le graphe de loss et accuracy\n",
        "N = np.arange(0, epochs)\n",
        "plt.style.use(\"ggplot\")\n",
        "plt.figure()\n",
        "N = np.arange(0,100)\n",
        "plt.plot(N, H.history[\"loss\"], label=\"train_loss\")\n",
        "plt.plot(N, H.history[\"val_loss\"], label=\"val_loss\")\n",
        "plt.plot(N, H.history[\"accuracy\"], label=\"train_acc\")\n",
        "plt.plot(N, H.history[\"val_accuracy\"], label=\"val_acc\")\n",
        "plt.plot(np.argmin(H.history[\"val_loss\"]), np.min(H.history[\"val_loss\"]),marker=\"x\",color=\"r\", label=\"meilleur modèle\")\n",
        "plt.title(\"Training Loss and Accuracy (Simple NN)\")\n",
        "plt.xlabel(\"Epoch #\")\n",
        "plt.ylabel(\"Loss/Accuracy\")\n",
        "plt.legend()\n",
        "plt.savefig(\"Loss_Acc_mnist\")"
      ],
      "execution_count": 23,
      "outputs": [
        {
          "output_type": "display_data",
          "data": {
            "image/png": "[encoded data removed]",
            "text/plain": [
              "<Figure size 432x288 with 1 Axes>"
            ]
          },
          "metadata": {
            "tags": []
          }
        }
      ]
    },
    {
      "cell_type": "markdown",
      "metadata": {
        "id": "ZyzekqMwcGZe"
      },
      "source": [
        "#Sauvegarde de l'historique d'entrainement"
      ]
    },
    {
      "cell_type": "code",
      "metadata": {
        "id": "nctxcUSeYDZ2"
      },
      "source": [
        "with open('file.json', 'w') as f:\n",
        "    json.dump(str(H.history), f)"
      ],
      "execution_count": 41,
      "outputs": []
    },
    {
      "cell_type": "code",
      "metadata": {
        "id": "eVmE7vzrYWsZ"
      },
      "source": [
        "from google.colab import drive\n",
        "drive.mount('/content/drive')"
      ],
      "execution_count": null,
      "outputs": []
    },
    {
      "cell_type": "markdown",
      "metadata": {
        "id": "pEzpNrMubcly"
      },
      "source": [
        "#Sauvegarde du modèle"
      ]
    },
    {
      "cell_type": "code",
      "metadata": {
        "colab": {
          "base_uri": "https://localhost:8080/"
        },
        "id": "uf6h5a-vbwb9",
        "outputId": "1fdb50d0-78c5-42ef-a129-074c1a4920e3"
      },
      "source": [
        "model.save(\"partie1.h5\")\n",
        "print(\"modèle sauvegardé\")"
      ],
      "execution_count": 24,
      "outputs": [
        {
          "output_type": "stream",
          "text": [
            "modèle sauvegardé\n"
          ],
          "name": "stdout"
        }
      ]
    },
    {
      "cell_type": "markdown",
      "metadata": {
        "id": "ivNKwAbkbsH8"
      },
      "source": [
        "#Chargement du modèle"
      ]
    },
    {
      "cell_type": "code",
      "metadata": {
        "colab": {
          "base_uri": "https://localhost:8080/"
        },
        "id": "CP3WWZN2b2g9",
        "outputId": "021fe134-acf8-4471-ddbf-5854503e63d3"
      },
      "source": [
        "from keras.models import load_model\n",
        "\n",
        "model = load_model('partie1.h5')\n",
        "model.summary()"
      ],
      "execution_count": 25,
      "outputs": [
        {
          "output_type": "stream",
          "text": [
            "Model: \"functional_7\"\n",
            "__________________________________________________________________________________________________\n",
            "Layer (type)                    Output Shape         Param #     Connected to                     \n",
            "==================================================================================================\n",
            "input_4 (InputLayer)            [(None, 224, 224, 3) 0                                            \n",
            "__________________________________________________________________________________________________\n",
            "conv2d_42 (Conv2D)              (None, 112, 112, 96) 14208       input_4[0][0]                    \n",
            "__________________________________________________________________________________________________\n",
            "max_pooling2d_6 (MaxPooling2D)  (None, 55, 55, 96)   0           conv2d_42[0][0]                  \n",
            "__________________________________________________________________________________________________\n",
            "conv2d_43 (Conv2D)              (None, 55, 55, 16)   1552        max_pooling2d_6[0][0]            \n",
            "__________________________________________________________________________________________________\n",
            "conv2d_44 (Conv2D)              (None, 55, 55, 64)   1088        conv2d_43[0][0]                  \n",
            "__________________________________________________________________________________________________\n",
            "conv2d_45 (Conv2D)              (None, 55, 55, 64)   9280        conv2d_43[0][0]                  \n",
            "__________________________________________________________________________________________________\n",
            "concatenate_12 (Concatenate)    (None, 55, 55, 128)  0           conv2d_44[0][0]                  \n",
            "                                                                 conv2d_45[0][0]                  \n",
            "__________________________________________________________________________________________________\n",
            "conv2d_46 (Conv2D)              (None, 55, 55, 16)   2064        concatenate_12[0][0]             \n",
            "__________________________________________________________________________________________________\n",
            "conv2d_47 (Conv2D)              (None, 55, 55, 64)   1088        conv2d_46[0][0]                  \n",
            "__________________________________________________________________________________________________\n",
            "conv2d_48 (Conv2D)              (None, 55, 55, 64)   9280        conv2d_46[0][0]                  \n",
            "__________________________________________________________________________________________________\n",
            "concatenate_13 (Concatenate)    (None, 55, 55, 128)  0           conv2d_47[0][0]                  \n",
            "                                                                 conv2d_48[0][0]                  \n",
            "__________________________________________________________________________________________________\n",
            "conv2d_49 (Conv2D)              (None, 55, 55, 32)   4128        concatenate_13[0][0]             \n",
            "__________________________________________________________________________________________________\n",
            "conv2d_50 (Conv2D)              (None, 55, 55, 128)  4224        conv2d_49[0][0]                  \n",
            "__________________________________________________________________________________________________\n",
            "conv2d_51 (Conv2D)              (None, 55, 55, 128)  36992       conv2d_49[0][0]                  \n",
            "__________________________________________________________________________________________________\n",
            "concatenate_14 (Concatenate)    (None, 55, 55, 256)  0           conv2d_50[0][0]                  \n",
            "                                                                 conv2d_51[0][0]                  \n",
            "__________________________________________________________________________________________________\n",
            "max_pooling2d_7 (MaxPooling2D)  (None, 28, 28, 256)  0           concatenate_14[0][0]             \n",
            "__________________________________________________________________________________________________\n",
            "conv2d_52 (Conv2D)              (None, 28, 28, 32)   8224        max_pooling2d_7[0][0]            \n",
            "__________________________________________________________________________________________________\n",
            "conv2d_53 (Conv2D)              (None, 28, 28, 128)  4224        conv2d_52[0][0]                  \n",
            "__________________________________________________________________________________________________\n",
            "conv2d_54 (Conv2D)              (None, 28, 28, 128)  36992       conv2d_52[0][0]                  \n",
            "__________________________________________________________________________________________________\n",
            "concatenate_15 (Concatenate)    (None, 28, 28, 256)  0           conv2d_53[0][0]                  \n",
            "                                                                 conv2d_54[0][0]                  \n",
            "__________________________________________________________________________________________________\n",
            "dropout_3 (Dropout)             (None, 28, 28, 256)  0           concatenate_15[0][0]             \n",
            "__________________________________________________________________________________________________\n",
            "conv2d_55 (Conv2D)              (None, 28, 28, 20)   5140        dropout_3[0][0]                  \n",
            "__________________________________________________________________________________________________\n",
            "global_average_pooling2d_3 (Glo (None, 20)           0           conv2d_55[0][0]                  \n",
            "__________________________________________________________________________________________________\n",
            "activation_3 (Activation)       (None, 20)           0           global_average_pooling2d_3[0][0] \n",
            "==================================================================================================\n",
            "Total params: 138,484\n",
            "Trainable params: 138,484\n",
            "Non-trainable params: 0\n",
            "__________________________________________________________________________________________________\n"
          ],
          "name": "stdout"
        }
      ]
    },
    {
      "cell_type": "markdown",
      "metadata": {
        "id": "Vr3jidNmcSqN"
      },
      "source": [
        "#Visualisation des mesures de performance "
      ]
    },
    {
      "cell_type": "code",
      "metadata": {
        "id": "t8juFJe0e0Lm"
      },
      "source": [
        "import numpy as np\n",
        "from sklearn.metrics import classification_report\n",
        "import matplotlib.pyplot as plt\n",
        "\n",
        "# evaluer le modele sur l'ensemble test\n",
        "predictions = model.predict(testGen, batch_size=batch_size)\n",
        "\n",
        "# imprimer le rappel/ precision ainsi que la mesure F\n",
        "CATEGORIES = [\"BOJ\", \"BOP\", \"CHR\", \"EPB\", \"EPN\", \"EPO\",\"EPR\", \"ERR\", \"ERS\", \"FRA\",\"HEG\",\"MEL\",\"ORA\",\"OSV\",\"PET\",\"PIB\",\"PIR\",\"PRU\",\"SAB\",\"THO\"]\n",
        "report =classification_report(y_test.argmax(axis=1), predictions.argmax(axis=1),target_names=CATEGORIES,output_dict=True)\n",
        "\n",
        "\n"
      ],
      "execution_count": 59,
      "outputs": []
    },
    {
      "cell_type": "markdown",
      "metadata": {
        "id": "32Aga664fi1V"
      },
      "source": [
        "#Sauvegarde des mesures de performances"
      ]
    },
    {
      "cell_type": "code",
      "metadata": {
        "colab": {
          "base_uri": "https://localhost:8080/"
        },
        "id": "Q2xzGD2Ae_NW",
        "outputId": "7f032007-1cc2-437a-d26b-0c321f80af83"
      },
      "source": [
        "df = pandas.DataFrame(report).transpose()\n",
        "print(df)\n",
        "df.to_csv('performance.csv',index=True)\n"
      ],
      "execution_count": 61,
      "outputs": [
        {
          "output_type": "stream",
          "text": [
            "              precision    recall  f1-score     support\n",
            "BOJ            0.736842  0.518519  0.608696   27.000000\n",
            "BOP            0.680851  0.969697  0.800000   33.000000\n",
            "CHR            0.555556  0.344828  0.425532   58.000000\n",
            "EPB            0.444444  0.307692  0.363636   13.000000\n",
            "EPN            0.250000  0.466667  0.325581   15.000000\n",
            "EPO            0.285714  0.153846  0.200000   26.000000\n",
            "EPR            0.000000  0.000000  0.000000   19.000000\n",
            "ERR            0.250000  0.428571  0.315789   28.000000\n",
            "ERS            0.210526  0.444444  0.285714   27.000000\n",
            "FRA            0.558824  1.000000  0.716981   19.000000\n",
            "HEG            0.857143  0.705882  0.774194   17.000000\n",
            "MEL            0.620000  0.837838  0.712644   37.000000\n",
            "ORA            0.600000  0.473684  0.529412   19.000000\n",
            "OSV            0.000000  0.000000  0.000000   10.000000\n",
            "PET            0.857143  0.600000  0.705882   20.000000\n",
            "PIB            0.384615  0.227273  0.285714   22.000000\n",
            "PIR            0.250000  0.250000  0.250000    8.000000\n",
            "PRU            0.545455  0.333333  0.413793   18.000000\n",
            "SAB            0.200000  0.200000  0.200000   15.000000\n",
            "THO            0.846154  0.647059  0.733333   17.000000\n",
            "accuracy       0.479911  0.479911  0.479911    0.479911\n",
            "macro avg      0.456663  0.445467  0.432345  448.000000\n",
            "weighted avg   0.487861  0.479911  0.462973  448.000000\n"
          ],
          "name": "stdout"
        }
      ]
    },
    {
      "cell_type": "markdown",
      "metadata": {
        "id": "rwbyeMEjdsBZ"
      },
      "source": [
        "#Visualisation et sauvegarde du graphe "
      ]
    },
    {
      "cell_type": "code",
      "metadata": {
        "colab": {
          "base_uri": "https://localhost:8080/",
          "height": 299
        },
        "id": "TovVD3DYAFSM",
        "outputId": "ef257734-c26c-4c05-89d1-ecd8e496e1d2"
      },
      "source": [
        "N = np.arange(0, epochs)\n",
        "plt.style.use(\"ggplot\")\n",
        "plt.figure()\n",
        "plt.plot(N, H.history[\"loss\"], label=\"train_loss\")\n",
        "plt.plot(N, H.history[\"val_loss\"], label=\"val_loss\")\n",
        "plt.plot(N, H.history[\"accuracy\"], label=\"train_acc\")\n",
        "plt.plot(N, H.history[\"val_accuracy\"], label=\"val_acc\")\n",
        "plt.title(\"Training Loss and Accuracy (Simple NN)\")\n",
        "plt.xlabel(\"Epoch #\")\n",
        "plt.ylabel(\"Loss/Accuracy\")\n",
        "plt.legend()\n",
        "\n",
        "#sauvegarde du graphe\n",
        "plt.savefig(\"BarkNet_partie1.PNG\")"
      ],
      "execution_count": 44,
      "outputs": [
        {
          "output_type": "display_data",
          "data": {
            "image/png": "[encoded data removed]",
            "text/plain": [
              "<Figure size 432x288 with 1 Axes>"
            ]
          },
          "metadata": {
            "tags": []
          }
        }
      ]
    },
    {
      "cell_type": "code",
      "metadata": {
        "id": "UtoAnhyqB0bM"
      },
      "source": [
        ""
      ],
      "execution_count": null,
      "outputs": []
    }
  ]
}